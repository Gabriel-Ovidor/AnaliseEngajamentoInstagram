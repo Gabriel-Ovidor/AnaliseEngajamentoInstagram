{
 "cells": [
  {
   "cell_type": "markdown",
   "metadata": {},
   "source": [
    "ANALISANDO O ENGAJAMENTO DO INSTAGRAM\n",
    "\n",
    "O QUE QUEREMOS RESPONDER?\n",
    "\n",
    "    - Qual tipo de conteúdo mais engaja no instagram da minha empresa?\n",
    "    - Temos a base de dados do instagram desde que o usuário começou a postar na marca até o dia 27/março\n",
    "\n",
    "    - Ele também dá alguns direcionamentos:\n",
    "        - Pode ignorar a coluna visualizações, queremos entender apenas curtidas, comentários e interações\n",
    "        - Tags vazias é que realmente não possuem tags (favor tratar como vazio)"
   ]
  },
  {
   "cell_type": "code",
   "execution_count": 2,
   "metadata": {},
   "outputs": [],
   "source": [
    "import pandas as pd\n",
    "import numpy as np\n",
    "import matplotlib.pyplot as plt\n",
    "import seaborn as sns"
   ]
  },
  {
   "cell_type": "code",
   "execution_count": 3,
   "metadata": {},
   "outputs": [],
   "source": [
    "base_engajamento =  pd.read_excel('base_engajamento.xlsx')"
   ]
  },
  {
   "cell_type": "code",
   "execution_count": 4,
   "metadata": {},
   "outputs": [
    {
     "data": {
      "application/vnd.microsoft.datawrangler.viewer.v0+json": {
       "columns": [
        {
         "name": "index",
         "rawType": "int64",
         "type": "integer"
        },
        {
         "name": "Tipo",
         "rawType": "object",
         "type": "string"
        },
        {
         "name": "Data",
         "rawType": "datetime64[ns]",
         "type": "datetime"
        },
        {
         "name": "Curtidas",
         "rawType": "int64",
         "type": "integer"
        },
        {
         "name": "Comentários",
         "rawType": "int64",
         "type": "integer"
        },
        {
         "name": "Visualizações",
         "rawType": "float64",
         "type": "float"
        },
        {
         "name": "Tags",
         "rawType": "object",
         "type": "string"
        },
        {
         "name": "Pessoas",
         "rawType": "object",
         "type": "string"
        },
        {
         "name": "Campanhas",
         "rawType": "object",
         "type": "string"
        },
        {
         "name": "Carrossel",
         "rawType": "object",
         "type": "unknown"
        },
        {
         "name": "Interacoes ",
         "rawType": "int64",
         "type": "integer"
        }
       ],
       "conversionMethod": "pd.DataFrame",
       "ref": "45890da5-12b8-4593-a9b6-4a1cb7803b6d",
       "rows": [
        [
         "0",
         "Foto",
         "2021-09-11 00:00:00",
         "2858",
         "16",
         null,
         "Loja",
         "N",
         "N",
         null,
         "2874"
        ],
        [
         "1",
         "Foto",
         "2021-09-11 00:00:00",
         "2930",
         "28",
         null,
         "Loja/Produtos",
         "N",
         "N",
         null,
         "2958"
        ],
        [
         "2",
         "Foto",
         "2021-09-11 00:00:00",
         "2807",
         "9",
         null,
         "Loja",
         "N",
         "N",
         null,
         "2816"
        ],
        [
         "3",
         "Vídeo",
         "2021-09-12 00:00:00",
         "5115",
         "49",
         "82878.0",
         "Produtos",
         "N",
         "N",
         null,
         "5164"
        ],
        [
         "4",
         "Foto",
         "2021-09-13 00:00:00",
         "4392",
         "45",
         null,
         "Produtos",
         "S",
         "N",
         null,
         "4437"
        ]
       ],
       "shape": {
        "columns": 10,
        "rows": 5
       }
      },
      "text/html": [
       "<div>\n",
       "<style scoped>\n",
       "    .dataframe tbody tr th:only-of-type {\n",
       "        vertical-align: middle;\n",
       "    }\n",
       "\n",
       "    .dataframe tbody tr th {\n",
       "        vertical-align: top;\n",
       "    }\n",
       "\n",
       "    .dataframe thead th {\n",
       "        text-align: right;\n",
       "    }\n",
       "</style>\n",
       "<table border=\"1\" class=\"dataframe\">\n",
       "  <thead>\n",
       "    <tr style=\"text-align: right;\">\n",
       "      <th></th>\n",
       "      <th>Tipo</th>\n",
       "      <th>Data</th>\n",
       "      <th>Curtidas</th>\n",
       "      <th>Comentários</th>\n",
       "      <th>Visualizações</th>\n",
       "      <th>Tags</th>\n",
       "      <th>Pessoas</th>\n",
       "      <th>Campanhas</th>\n",
       "      <th>Carrossel</th>\n",
       "      <th>Interacoes</th>\n",
       "    </tr>\n",
       "  </thead>\n",
       "  <tbody>\n",
       "    <tr>\n",
       "      <th>0</th>\n",
       "      <td>Foto</td>\n",
       "      <td>2021-09-11</td>\n",
       "      <td>2858</td>\n",
       "      <td>16</td>\n",
       "      <td>NaN</td>\n",
       "      <td>Loja</td>\n",
       "      <td>N</td>\n",
       "      <td>N</td>\n",
       "      <td>NaN</td>\n",
       "      <td>2874</td>\n",
       "    </tr>\n",
       "    <tr>\n",
       "      <th>1</th>\n",
       "      <td>Foto</td>\n",
       "      <td>2021-09-11</td>\n",
       "      <td>2930</td>\n",
       "      <td>28</td>\n",
       "      <td>NaN</td>\n",
       "      <td>Loja/Produtos</td>\n",
       "      <td>N</td>\n",
       "      <td>N</td>\n",
       "      <td>NaN</td>\n",
       "      <td>2958</td>\n",
       "    </tr>\n",
       "    <tr>\n",
       "      <th>2</th>\n",
       "      <td>Foto</td>\n",
       "      <td>2021-09-11</td>\n",
       "      <td>2807</td>\n",
       "      <td>9</td>\n",
       "      <td>NaN</td>\n",
       "      <td>Loja</td>\n",
       "      <td>N</td>\n",
       "      <td>N</td>\n",
       "      <td>NaN</td>\n",
       "      <td>2816</td>\n",
       "    </tr>\n",
       "    <tr>\n",
       "      <th>3</th>\n",
       "      <td>Vídeo</td>\n",
       "      <td>2021-09-12</td>\n",
       "      <td>5115</td>\n",
       "      <td>49</td>\n",
       "      <td>82878.0</td>\n",
       "      <td>Produtos</td>\n",
       "      <td>N</td>\n",
       "      <td>N</td>\n",
       "      <td>NaN</td>\n",
       "      <td>5164</td>\n",
       "    </tr>\n",
       "    <tr>\n",
       "      <th>4</th>\n",
       "      <td>Foto</td>\n",
       "      <td>2021-09-13</td>\n",
       "      <td>4392</td>\n",
       "      <td>45</td>\n",
       "      <td>NaN</td>\n",
       "      <td>Produtos</td>\n",
       "      <td>S</td>\n",
       "      <td>N</td>\n",
       "      <td>NaN</td>\n",
       "      <td>4437</td>\n",
       "    </tr>\n",
       "  </tbody>\n",
       "</table>\n",
       "</div>"
      ],
      "text/plain": [
       "    Tipo       Data  Curtidas  Comentários  Visualizações           Tags  \\\n",
       "0   Foto 2021-09-11      2858           16            NaN           Loja   \n",
       "1   Foto 2021-09-11      2930           28            NaN  Loja/Produtos   \n",
       "2   Foto 2021-09-11      2807            9            NaN           Loja   \n",
       "3  Vídeo 2021-09-12      5115           49        82878.0       Produtos   \n",
       "4   Foto 2021-09-13      4392           45            NaN       Produtos   \n",
       "\n",
       "  Pessoas Campanhas Carrossel  Interacoes   \n",
       "0       N         N       NaN         2874  \n",
       "1       N         N       NaN         2958  \n",
       "2       N         N       NaN         2816  \n",
       "3       N         N       NaN         5164  \n",
       "4       S         N       NaN         4437  "
      ]
     },
     "execution_count": 4,
     "metadata": {},
     "output_type": "execute_result"
    }
   ],
   "source": [
    "base_engajamento.head()"
   ]
  },
  {
   "cell_type": "markdown",
   "metadata": {},
   "source": [
    "APRENDIZADO DO PROJETO:\n",
    "\n",
    "O .drop() permite apagar uma coluna ou linha da base\n",
    "base.drop(nome_coluna, axis=1)\n",
    "\n",
    " - O axis=1 se refere a coluna, enquanto axis=0 se refere a linha\n",
    " - Devemos passar o nome da coluna que queremos apagar da base\n",
    " - Em casa de mais de 1 coluna, passamos a lista entre colchetes"
   ]
  },
  {
   "cell_type": "code",
   "execution_count": 5,
   "metadata": {},
   "outputs": [],
   "source": [
    "# Apagar coluna \"Visualizações\" pois o cliente não quer que seja considerada\n",
    "\n",
    "base = base_engajamento.drop('Visualizações', axis=1)"
   ]
  },
  {
   "cell_type": "code",
   "execution_count": 6,
   "metadata": {},
   "outputs": [
    {
     "data": {
      "application/vnd.microsoft.datawrangler.viewer.v0+json": {
       "columns": [
        {
         "name": "index",
         "rawType": "int64",
         "type": "integer"
        },
        {
         "name": "Tipo",
         "rawType": "object",
         "type": "string"
        },
        {
         "name": "Data",
         "rawType": "datetime64[ns]",
         "type": "datetime"
        },
        {
         "name": "Curtidas",
         "rawType": "int64",
         "type": "integer"
        },
        {
         "name": "Comentários",
         "rawType": "int64",
         "type": "integer"
        },
        {
         "name": "Tags",
         "rawType": "object",
         "type": "string"
        },
        {
         "name": "Pessoas",
         "rawType": "object",
         "type": "string"
        },
        {
         "name": "Campanhas",
         "rawType": "object",
         "type": "string"
        },
        {
         "name": "Carrossel",
         "rawType": "object",
         "type": "unknown"
        },
        {
         "name": "Interacoes ",
         "rawType": "int64",
         "type": "integer"
        }
       ],
       "conversionMethod": "pd.DataFrame",
       "ref": "eae2d926-9aaf-4124-b803-aa064c92bd6f",
       "rows": [
        [
         "0",
         "Foto",
         "2021-09-11 00:00:00",
         "2858",
         "16",
         "Loja",
         "N",
         "N",
         null,
         "2874"
        ],
        [
         "1",
         "Foto",
         "2021-09-11 00:00:00",
         "2930",
         "28",
         "Loja/Produtos",
         "N",
         "N",
         null,
         "2958"
        ],
        [
         "2",
         "Foto",
         "2021-09-11 00:00:00",
         "2807",
         "9",
         "Loja",
         "N",
         "N",
         null,
         "2816"
        ],
        [
         "3",
         "Vídeo",
         "2021-09-12 00:00:00",
         "5115",
         "49",
         "Produtos",
         "N",
         "N",
         null,
         "5164"
        ],
        [
         "4",
         "Foto",
         "2021-09-13 00:00:00",
         "4392",
         "45",
         "Produtos",
         "S",
         "N",
         null,
         "4437"
        ]
       ],
       "shape": {
        "columns": 9,
        "rows": 5
       }
      },
      "text/html": [
       "<div>\n",
       "<style scoped>\n",
       "    .dataframe tbody tr th:only-of-type {\n",
       "        vertical-align: middle;\n",
       "    }\n",
       "\n",
       "    .dataframe tbody tr th {\n",
       "        vertical-align: top;\n",
       "    }\n",
       "\n",
       "    .dataframe thead th {\n",
       "        text-align: right;\n",
       "    }\n",
       "</style>\n",
       "<table border=\"1\" class=\"dataframe\">\n",
       "  <thead>\n",
       "    <tr style=\"text-align: right;\">\n",
       "      <th></th>\n",
       "      <th>Tipo</th>\n",
       "      <th>Data</th>\n",
       "      <th>Curtidas</th>\n",
       "      <th>Comentários</th>\n",
       "      <th>Tags</th>\n",
       "      <th>Pessoas</th>\n",
       "      <th>Campanhas</th>\n",
       "      <th>Carrossel</th>\n",
       "      <th>Interacoes</th>\n",
       "    </tr>\n",
       "  </thead>\n",
       "  <tbody>\n",
       "    <tr>\n",
       "      <th>0</th>\n",
       "      <td>Foto</td>\n",
       "      <td>2021-09-11</td>\n",
       "      <td>2858</td>\n",
       "      <td>16</td>\n",
       "      <td>Loja</td>\n",
       "      <td>N</td>\n",
       "      <td>N</td>\n",
       "      <td>NaN</td>\n",
       "      <td>2874</td>\n",
       "    </tr>\n",
       "    <tr>\n",
       "      <th>1</th>\n",
       "      <td>Foto</td>\n",
       "      <td>2021-09-11</td>\n",
       "      <td>2930</td>\n",
       "      <td>28</td>\n",
       "      <td>Loja/Produtos</td>\n",
       "      <td>N</td>\n",
       "      <td>N</td>\n",
       "      <td>NaN</td>\n",
       "      <td>2958</td>\n",
       "    </tr>\n",
       "    <tr>\n",
       "      <th>2</th>\n",
       "      <td>Foto</td>\n",
       "      <td>2021-09-11</td>\n",
       "      <td>2807</td>\n",
       "      <td>9</td>\n",
       "      <td>Loja</td>\n",
       "      <td>N</td>\n",
       "      <td>N</td>\n",
       "      <td>NaN</td>\n",
       "      <td>2816</td>\n",
       "    </tr>\n",
       "    <tr>\n",
       "      <th>3</th>\n",
       "      <td>Vídeo</td>\n",
       "      <td>2021-09-12</td>\n",
       "      <td>5115</td>\n",
       "      <td>49</td>\n",
       "      <td>Produtos</td>\n",
       "      <td>N</td>\n",
       "      <td>N</td>\n",
       "      <td>NaN</td>\n",
       "      <td>5164</td>\n",
       "    </tr>\n",
       "    <tr>\n",
       "      <th>4</th>\n",
       "      <td>Foto</td>\n",
       "      <td>2021-09-13</td>\n",
       "      <td>4392</td>\n",
       "      <td>45</td>\n",
       "      <td>Produtos</td>\n",
       "      <td>S</td>\n",
       "      <td>N</td>\n",
       "      <td>NaN</td>\n",
       "      <td>4437</td>\n",
       "    </tr>\n",
       "  </tbody>\n",
       "</table>\n",
       "</div>"
      ],
      "text/plain": [
       "    Tipo       Data  Curtidas  Comentários           Tags Pessoas Campanhas  \\\n",
       "0   Foto 2021-09-11      2858           16           Loja       N         N   \n",
       "1   Foto 2021-09-11      2930           28  Loja/Produtos       N         N   \n",
       "2   Foto 2021-09-11      2807            9           Loja       N         N   \n",
       "3  Vídeo 2021-09-12      5115           49       Produtos       N         N   \n",
       "4   Foto 2021-09-13      4392           45       Produtos       S         N   \n",
       "\n",
       "  Carrossel  Interacoes   \n",
       "0       NaN         2874  \n",
       "1       NaN         2958  \n",
       "2       NaN         2816  \n",
       "3       NaN         5164  \n",
       "4       NaN         4437  "
      ]
     },
     "execution_count": 6,
     "metadata": {},
     "output_type": "execute_result"
    }
   ],
   "source": [
    "base.head()"
   ]
  },
  {
   "cell_type": "code",
   "execution_count": 7,
   "metadata": {},
   "outputs": [
    {
     "data": {
      "application/vnd.microsoft.datawrangler.viewer.v0+json": {
       "columns": [
        {
         "name": "index",
         "rawType": "int64",
         "type": "integer"
        },
        {
         "name": "Tipo",
         "rawType": "object",
         "type": "string"
        },
        {
         "name": "Data",
         "rawType": "datetime64[ns]",
         "type": "datetime"
        },
        {
         "name": "Curtidas",
         "rawType": "int64",
         "type": "integer"
        },
        {
         "name": "Comentários",
         "rawType": "int64",
         "type": "integer"
        },
        {
         "name": "Tags",
         "rawType": "object",
         "type": "unknown"
        },
        {
         "name": "Pessoas",
         "rawType": "object",
         "type": "string"
        },
        {
         "name": "Campanhas",
         "rawType": "object",
         "type": "string"
        },
        {
         "name": "Carrossel",
         "rawType": "object",
         "type": "unknown"
        },
        {
         "name": "Interacoes ",
         "rawType": "int64",
         "type": "integer"
        }
       ],
       "conversionMethod": "pd.DataFrame",
       "ref": "9d8061a0-ce2f-4d4e-a3b7-52f04da73017",
       "rows": [
        [
         "47",
         "IGTV",
         "2022-03-12 00:00:00",
         "5489",
         "77",
         "Dicas de como usar/Novos Produtos",
         "S",
         "N",
         null,
         "5566"
        ],
        [
         "48",
         "Foto",
         "2022-03-20 00:00:00",
         "29084",
         "479",
         "Datas comemorativas/Promoções",
         "S",
         "S",
         null,
         "29563"
        ],
        [
         "49",
         "Foto",
         "2022-03-22 00:00:00",
         "9087",
         "106",
         null,
         "S",
         "S",
         null,
         "9193"
        ],
        [
         "50",
         "Foto",
         "2022-03-26 00:00:00",
         "16551",
         "186",
         null,
         "S",
         "N",
         null,
         "16737"
        ],
        [
         "51",
         "IGTV",
         "2022-03-27 00:00:00",
         "4934",
         "65",
         "Dicas de como usar/Produtos",
         "S",
         "N",
         null,
         "4999"
        ]
       ],
       "shape": {
        "columns": 9,
        "rows": 5
       }
      },
      "text/html": [
       "<div>\n",
       "<style scoped>\n",
       "    .dataframe tbody tr th:only-of-type {\n",
       "        vertical-align: middle;\n",
       "    }\n",
       "\n",
       "    .dataframe tbody tr th {\n",
       "        vertical-align: top;\n",
       "    }\n",
       "\n",
       "    .dataframe thead th {\n",
       "        text-align: right;\n",
       "    }\n",
       "</style>\n",
       "<table border=\"1\" class=\"dataframe\">\n",
       "  <thead>\n",
       "    <tr style=\"text-align: right;\">\n",
       "      <th></th>\n",
       "      <th>Tipo</th>\n",
       "      <th>Data</th>\n",
       "      <th>Curtidas</th>\n",
       "      <th>Comentários</th>\n",
       "      <th>Tags</th>\n",
       "      <th>Pessoas</th>\n",
       "      <th>Campanhas</th>\n",
       "      <th>Carrossel</th>\n",
       "      <th>Interacoes</th>\n",
       "    </tr>\n",
       "  </thead>\n",
       "  <tbody>\n",
       "    <tr>\n",
       "      <th>47</th>\n",
       "      <td>IGTV</td>\n",
       "      <td>2022-03-12</td>\n",
       "      <td>5489</td>\n",
       "      <td>77</td>\n",
       "      <td>Dicas de como usar/Novos Produtos</td>\n",
       "      <td>S</td>\n",
       "      <td>N</td>\n",
       "      <td>NaN</td>\n",
       "      <td>5566</td>\n",
       "    </tr>\n",
       "    <tr>\n",
       "      <th>48</th>\n",
       "      <td>Foto</td>\n",
       "      <td>2022-03-20</td>\n",
       "      <td>29084</td>\n",
       "      <td>479</td>\n",
       "      <td>Datas comemorativas/Promoções</td>\n",
       "      <td>S</td>\n",
       "      <td>S</td>\n",
       "      <td>NaN</td>\n",
       "      <td>29563</td>\n",
       "    </tr>\n",
       "    <tr>\n",
       "      <th>49</th>\n",
       "      <td>Foto</td>\n",
       "      <td>2022-03-22</td>\n",
       "      <td>9087</td>\n",
       "      <td>106</td>\n",
       "      <td>NaN</td>\n",
       "      <td>S</td>\n",
       "      <td>S</td>\n",
       "      <td>NaN</td>\n",
       "      <td>9193</td>\n",
       "    </tr>\n",
       "    <tr>\n",
       "      <th>50</th>\n",
       "      <td>Foto</td>\n",
       "      <td>2022-03-26</td>\n",
       "      <td>16551</td>\n",
       "      <td>186</td>\n",
       "      <td>NaN</td>\n",
       "      <td>S</td>\n",
       "      <td>N</td>\n",
       "      <td>NaN</td>\n",
       "      <td>16737</td>\n",
       "    </tr>\n",
       "    <tr>\n",
       "      <th>51</th>\n",
       "      <td>IGTV</td>\n",
       "      <td>2022-03-27</td>\n",
       "      <td>4934</td>\n",
       "      <td>65</td>\n",
       "      <td>Dicas de como usar/Produtos</td>\n",
       "      <td>S</td>\n",
       "      <td>N</td>\n",
       "      <td>NaN</td>\n",
       "      <td>4999</td>\n",
       "    </tr>\n",
       "  </tbody>\n",
       "</table>\n",
       "</div>"
      ],
      "text/plain": [
       "    Tipo       Data  Curtidas  Comentários                               Tags  \\\n",
       "47  IGTV 2022-03-12      5489           77  Dicas de como usar/Novos Produtos   \n",
       "48  Foto 2022-03-20     29084          479      Datas comemorativas/Promoções   \n",
       "49  Foto 2022-03-22      9087          106                                NaN   \n",
       "50  Foto 2022-03-26     16551          186                                NaN   \n",
       "51  IGTV 2022-03-27      4934           65        Dicas de como usar/Produtos   \n",
       "\n",
       "   Pessoas Campanhas Carrossel  Interacoes   \n",
       "47       S         N       NaN         5566  \n",
       "48       S         S       NaN        29563  \n",
       "49       S         S       NaN         9193  \n",
       "50       S         N       NaN        16737  \n",
       "51       S         N       NaN         4999  "
      ]
     },
     "execution_count": 7,
     "metadata": {},
     "output_type": "execute_result"
    }
   ],
   "source": [
    "# Últimas 5 linhas\n",
    "\n",
    "base.tail()"
   ]
  },
  {
   "cell_type": "code",
   "execution_count": 8,
   "metadata": {},
   "outputs": [
    {
     "data": {
      "text/plain": [
       "(52, 9)"
      ]
     },
     "execution_count": 8,
     "metadata": {},
     "output_type": "execute_result"
    }
   ],
   "source": [
    "# Tamanho da base\n",
    "\n",
    "base.shape"
   ]
  },
  {
   "cell_type": "code",
   "execution_count": 9,
   "metadata": {},
   "outputs": [
    {
     "name": "stdout",
     "output_type": "stream",
     "text": [
      "<class 'pandas.core.frame.DataFrame'>\n",
      "RangeIndex: 52 entries, 0 to 51\n",
      "Data columns (total 9 columns):\n",
      " #   Column       Non-Null Count  Dtype         \n",
      "---  ------       --------------  -----         \n",
      " 0   Tipo         52 non-null     object        \n",
      " 1   Data         52 non-null     datetime64[ns]\n",
      " 2   Curtidas     52 non-null     int64         \n",
      " 3   Comentários  52 non-null     int64         \n",
      " 4   Tags         44 non-null     object        \n",
      " 5   Pessoas      52 non-null     object        \n",
      " 6   Campanhas    52 non-null     object        \n",
      " 7   Carrossel    8 non-null      object        \n",
      " 8   Interacoes   52 non-null     int64         \n",
      "dtypes: datetime64[ns](1), int64(3), object(5)\n",
      "memory usage: 3.8+ KB\n"
     ]
    }
   ],
   "source": [
    "base.info()"
   ]
  },
  {
   "cell_type": "code",
   "execution_count": 10,
   "metadata": {},
   "outputs": [
    {
     "data": {
      "text/plain": [
       "Tipo            0\n",
       "Data            0\n",
       "Curtidas        0\n",
       "Comentários     0\n",
       "Tags            8\n",
       "Pessoas         0\n",
       "Campanhas       0\n",
       "Carrossel      44\n",
       "Interacoes      0\n",
       "dtype: int64"
      ]
     },
     "execution_count": 10,
     "metadata": {},
     "output_type": "execute_result"
    }
   ],
   "source": [
    "base.isnull().sum()"
   ]
  },
  {
   "cell_type": "code",
   "execution_count": 11,
   "metadata": {},
   "outputs": [
    {
     "data": {
      "text/plain": [
       "Carrossel\n",
       "S    8\n",
       "Name: count, dtype: int64"
      ]
     },
     "execution_count": 11,
     "metadata": {},
     "output_type": "execute_result"
    }
   ],
   "source": [
    "base.Carrossel.value_counts()"
   ]
  },
  {
   "cell_type": "code",
   "execution_count": 12,
   "metadata": {},
   "outputs": [
    {
     "data": {
      "application/vnd.microsoft.datawrangler.viewer.v0+json": {
       "columns": [
        {
         "name": "index",
         "rawType": "int64",
         "type": "integer"
        },
        {
         "name": "Tipo",
         "rawType": "object",
         "type": "string"
        },
        {
         "name": "Data",
         "rawType": "datetime64[ns]",
         "type": "datetime"
        },
        {
         "name": "Curtidas",
         "rawType": "int64",
         "type": "integer"
        },
        {
         "name": "Comentários",
         "rawType": "int64",
         "type": "integer"
        },
        {
         "name": "Tags",
         "rawType": "object",
         "type": "string"
        },
        {
         "name": "Pessoas",
         "rawType": "object",
         "type": "string"
        },
        {
         "name": "Campanhas",
         "rawType": "object",
         "type": "string"
        },
        {
         "name": "Carrossel",
         "rawType": "object",
         "type": "unknown"
        },
        {
         "name": "Interacoes ",
         "rawType": "int64",
         "type": "integer"
        }
       ],
       "conversionMethod": "pd.DataFrame",
       "ref": "f7ce0f90-2a6c-477b-84a8-10e60b475b64",
       "rows": [
        [
         "0",
         "Foto",
         "2021-09-11 00:00:00",
         "2858",
         "16",
         "Loja",
         "N",
         "N",
         null,
         "2874"
        ],
        [
         "1",
         "Foto",
         "2021-09-11 00:00:00",
         "2930",
         "28",
         "Loja/Produtos",
         "N",
         "N",
         null,
         "2958"
        ],
        [
         "2",
         "Foto",
         "2021-09-11 00:00:00",
         "2807",
         "9",
         "Loja",
         "N",
         "N",
         null,
         "2816"
        ],
        [
         "3",
         "Vídeo",
         "2021-09-12 00:00:00",
         "5115",
         "49",
         "Produtos",
         "N",
         "N",
         null,
         "5164"
        ],
        [
         "4",
         "Foto",
         "2021-09-13 00:00:00",
         "4392",
         "45",
         "Produtos",
         "S",
         "N",
         null,
         "4437"
        ]
       ],
       "shape": {
        "columns": 9,
        "rows": 5
       }
      },
      "text/html": [
       "<div>\n",
       "<style scoped>\n",
       "    .dataframe tbody tr th:only-of-type {\n",
       "        vertical-align: middle;\n",
       "    }\n",
       "\n",
       "    .dataframe tbody tr th {\n",
       "        vertical-align: top;\n",
       "    }\n",
       "\n",
       "    .dataframe thead th {\n",
       "        text-align: right;\n",
       "    }\n",
       "</style>\n",
       "<table border=\"1\" class=\"dataframe\">\n",
       "  <thead>\n",
       "    <tr style=\"text-align: right;\">\n",
       "      <th></th>\n",
       "      <th>Tipo</th>\n",
       "      <th>Data</th>\n",
       "      <th>Curtidas</th>\n",
       "      <th>Comentários</th>\n",
       "      <th>Tags</th>\n",
       "      <th>Pessoas</th>\n",
       "      <th>Campanhas</th>\n",
       "      <th>Carrossel</th>\n",
       "      <th>Interacoes</th>\n",
       "    </tr>\n",
       "  </thead>\n",
       "  <tbody>\n",
       "    <tr>\n",
       "      <th>0</th>\n",
       "      <td>Foto</td>\n",
       "      <td>2021-09-11</td>\n",
       "      <td>2858</td>\n",
       "      <td>16</td>\n",
       "      <td>Loja</td>\n",
       "      <td>N</td>\n",
       "      <td>N</td>\n",
       "      <td>NaN</td>\n",
       "      <td>2874</td>\n",
       "    </tr>\n",
       "    <tr>\n",
       "      <th>1</th>\n",
       "      <td>Foto</td>\n",
       "      <td>2021-09-11</td>\n",
       "      <td>2930</td>\n",
       "      <td>28</td>\n",
       "      <td>Loja/Produtos</td>\n",
       "      <td>N</td>\n",
       "      <td>N</td>\n",
       "      <td>NaN</td>\n",
       "      <td>2958</td>\n",
       "    </tr>\n",
       "    <tr>\n",
       "      <th>2</th>\n",
       "      <td>Foto</td>\n",
       "      <td>2021-09-11</td>\n",
       "      <td>2807</td>\n",
       "      <td>9</td>\n",
       "      <td>Loja</td>\n",
       "      <td>N</td>\n",
       "      <td>N</td>\n",
       "      <td>NaN</td>\n",
       "      <td>2816</td>\n",
       "    </tr>\n",
       "    <tr>\n",
       "      <th>3</th>\n",
       "      <td>Vídeo</td>\n",
       "      <td>2021-09-12</td>\n",
       "      <td>5115</td>\n",
       "      <td>49</td>\n",
       "      <td>Produtos</td>\n",
       "      <td>N</td>\n",
       "      <td>N</td>\n",
       "      <td>NaN</td>\n",
       "      <td>5164</td>\n",
       "    </tr>\n",
       "    <tr>\n",
       "      <th>4</th>\n",
       "      <td>Foto</td>\n",
       "      <td>2021-09-13</td>\n",
       "      <td>4392</td>\n",
       "      <td>45</td>\n",
       "      <td>Produtos</td>\n",
       "      <td>S</td>\n",
       "      <td>N</td>\n",
       "      <td>NaN</td>\n",
       "      <td>4437</td>\n",
       "    </tr>\n",
       "  </tbody>\n",
       "</table>\n",
       "</div>"
      ],
      "text/plain": [
       "    Tipo       Data  Curtidas  Comentários           Tags Pessoas Campanhas  \\\n",
       "0   Foto 2021-09-11      2858           16           Loja       N         N   \n",
       "1   Foto 2021-09-11      2930           28  Loja/Produtos       N         N   \n",
       "2   Foto 2021-09-11      2807            9           Loja       N         N   \n",
       "3  Vídeo 2021-09-12      5115           49       Produtos       N         N   \n",
       "4   Foto 2021-09-13      4392           45       Produtos       S         N   \n",
       "\n",
       "  Carrossel  Interacoes   \n",
       "0       NaN         2874  \n",
       "1       NaN         2958  \n",
       "2       NaN         2816  \n",
       "3       NaN         5164  \n",
       "4       NaN         4437  "
      ]
     },
     "execution_count": 12,
     "metadata": {},
     "output_type": "execute_result"
    }
   ],
   "source": [
    "# Filtrando valores em que carrossel é nulo\n",
    "\n",
    "base.loc[base['Carrossel'].isnull()].head()"
   ]
  },
  {
   "cell_type": "code",
   "execution_count": 13,
   "metadata": {},
   "outputs": [
    {
     "data": {
      "application/vnd.microsoft.datawrangler.viewer.v0+json": {
       "columns": [
        {
         "name": "index",
         "rawType": "int64",
         "type": "integer"
        },
        {
         "name": "Tipo",
         "rawType": "object",
         "type": "string"
        },
        {
         "name": "Data",
         "rawType": "datetime64[ns]",
         "type": "datetime"
        },
        {
         "name": "Curtidas",
         "rawType": "int64",
         "type": "integer"
        },
        {
         "name": "Comentários",
         "rawType": "int64",
         "type": "integer"
        },
        {
         "name": "Tags",
         "rawType": "object",
         "type": "string"
        },
        {
         "name": "Pessoas",
         "rawType": "object",
         "type": "string"
        },
        {
         "name": "Campanhas",
         "rawType": "object",
         "type": "string"
        },
        {
         "name": "Carrossel",
         "rawType": "object",
         "type": "string"
        },
        {
         "name": "Interacoes ",
         "rawType": "int64",
         "type": "integer"
        }
       ],
       "conversionMethod": "pd.DataFrame",
       "ref": "46945638-b1d3-4416-85d0-804d826e8e4b",
       "rows": [
        [
         "5",
         "Foto",
         "2021-09-17 00:00:00",
         "5359",
         "62",
         "Novos Produtos",
         "N",
         "S",
         "S",
         "5421"
        ],
        [
         "8",
         "Foto",
         "2021-09-27 00:00:00",
         "6355",
         "89",
         "Produtos",
         "S",
         "N",
         "S",
         "6444"
        ],
        [
         "12",
         "Foto",
         "2021-10-21 00:00:00",
         "6166",
         "55",
         "Novos Produtos",
         "S",
         "S",
         "S",
         "6221"
        ],
        [
         "21",
         "Foto",
         "2021-12-23 00:00:00",
         "8328",
         "93",
         "Produtos",
         "S",
         "N",
         "S",
         "8421"
        ],
        [
         "25",
         "Foto",
         "2022-01-02 00:00:00",
         "12193",
         "138",
         "Novos Produtos",
         "S",
         "N",
         "S",
         "12331"
        ]
       ],
       "shape": {
        "columns": 9,
        "rows": 5
       }
      },
      "text/html": [
       "<div>\n",
       "<style scoped>\n",
       "    .dataframe tbody tr th:only-of-type {\n",
       "        vertical-align: middle;\n",
       "    }\n",
       "\n",
       "    .dataframe tbody tr th {\n",
       "        vertical-align: top;\n",
       "    }\n",
       "\n",
       "    .dataframe thead th {\n",
       "        text-align: right;\n",
       "    }\n",
       "</style>\n",
       "<table border=\"1\" class=\"dataframe\">\n",
       "  <thead>\n",
       "    <tr style=\"text-align: right;\">\n",
       "      <th></th>\n",
       "      <th>Tipo</th>\n",
       "      <th>Data</th>\n",
       "      <th>Curtidas</th>\n",
       "      <th>Comentários</th>\n",
       "      <th>Tags</th>\n",
       "      <th>Pessoas</th>\n",
       "      <th>Campanhas</th>\n",
       "      <th>Carrossel</th>\n",
       "      <th>Interacoes</th>\n",
       "    </tr>\n",
       "  </thead>\n",
       "  <tbody>\n",
       "    <tr>\n",
       "      <th>5</th>\n",
       "      <td>Foto</td>\n",
       "      <td>2021-09-17</td>\n",
       "      <td>5359</td>\n",
       "      <td>62</td>\n",
       "      <td>Novos Produtos</td>\n",
       "      <td>N</td>\n",
       "      <td>S</td>\n",
       "      <td>S</td>\n",
       "      <td>5421</td>\n",
       "    </tr>\n",
       "    <tr>\n",
       "      <th>8</th>\n",
       "      <td>Foto</td>\n",
       "      <td>2021-09-27</td>\n",
       "      <td>6355</td>\n",
       "      <td>89</td>\n",
       "      <td>Produtos</td>\n",
       "      <td>S</td>\n",
       "      <td>N</td>\n",
       "      <td>S</td>\n",
       "      <td>6444</td>\n",
       "    </tr>\n",
       "    <tr>\n",
       "      <th>12</th>\n",
       "      <td>Foto</td>\n",
       "      <td>2021-10-21</td>\n",
       "      <td>6166</td>\n",
       "      <td>55</td>\n",
       "      <td>Novos Produtos</td>\n",
       "      <td>S</td>\n",
       "      <td>S</td>\n",
       "      <td>S</td>\n",
       "      <td>6221</td>\n",
       "    </tr>\n",
       "    <tr>\n",
       "      <th>21</th>\n",
       "      <td>Foto</td>\n",
       "      <td>2021-12-23</td>\n",
       "      <td>8328</td>\n",
       "      <td>93</td>\n",
       "      <td>Produtos</td>\n",
       "      <td>S</td>\n",
       "      <td>N</td>\n",
       "      <td>S</td>\n",
       "      <td>8421</td>\n",
       "    </tr>\n",
       "    <tr>\n",
       "      <th>25</th>\n",
       "      <td>Foto</td>\n",
       "      <td>2022-01-02</td>\n",
       "      <td>12193</td>\n",
       "      <td>138</td>\n",
       "      <td>Novos Produtos</td>\n",
       "      <td>S</td>\n",
       "      <td>N</td>\n",
       "      <td>S</td>\n",
       "      <td>12331</td>\n",
       "    </tr>\n",
       "  </tbody>\n",
       "</table>\n",
       "</div>"
      ],
      "text/plain": [
       "    Tipo       Data  Curtidas  Comentários            Tags Pessoas Campanhas  \\\n",
       "5   Foto 2021-09-17      5359           62  Novos Produtos       N         S   \n",
       "8   Foto 2021-09-27      6355           89        Produtos       S         N   \n",
       "12  Foto 2021-10-21      6166           55  Novos Produtos       S         S   \n",
       "21  Foto 2021-12-23      8328           93        Produtos       S         N   \n",
       "25  Foto 2022-01-02     12193          138  Novos Produtos       S         N   \n",
       "\n",
       "   Carrossel  Interacoes   \n",
       "5          S         5421  \n",
       "8          S         6444  \n",
       "12         S         6221  \n",
       "21         S         8421  \n",
       "25         S        12331  "
      ]
     },
     "execution_count": 13,
     "metadata": {},
     "output_type": "execute_result"
    }
   ],
   "source": [
    "# Buscando valores não nulos\n",
    "\n",
    "base.loc[base['Carrossel'].notnull()].head()"
   ]
  },
  {
   "cell_type": "code",
   "execution_count": 14,
   "metadata": {},
   "outputs": [
    {
     "data": {
      "application/vnd.microsoft.datawrangler.viewer.v0+json": {
       "columns": [
        {
         "name": "index",
         "rawType": "int64",
         "type": "integer"
        },
        {
         "name": "Carrossel",
         "rawType": "object",
         "type": "unknown"
        }
       ],
       "conversionMethod": "pd.DataFrame",
       "ref": "16b40857-45a4-4558-b802-1a47a355e430",
       "rows": [
        [
         "0",
         null
        ],
        [
         "1",
         null
        ],
        [
         "2",
         null
        ],
        [
         "3",
         null
        ],
        [
         "4",
         null
        ]
       ],
       "shape": {
        "columns": 1,
        "rows": 5
       }
      },
      "text/html": [
       "<div>\n",
       "<style scoped>\n",
       "    .dataframe tbody tr th:only-of-type {\n",
       "        vertical-align: middle;\n",
       "    }\n",
       "\n",
       "    .dataframe tbody tr th {\n",
       "        vertical-align: top;\n",
       "    }\n",
       "\n",
       "    .dataframe thead th {\n",
       "        text-align: right;\n",
       "    }\n",
       "</style>\n",
       "<table border=\"1\" class=\"dataframe\">\n",
       "  <thead>\n",
       "    <tr style=\"text-align: right;\">\n",
       "      <th></th>\n",
       "      <th>Carrossel</th>\n",
       "    </tr>\n",
       "  </thead>\n",
       "  <tbody>\n",
       "    <tr>\n",
       "      <th>0</th>\n",
       "      <td>NaN</td>\n",
       "    </tr>\n",
       "    <tr>\n",
       "      <th>1</th>\n",
       "      <td>NaN</td>\n",
       "    </tr>\n",
       "    <tr>\n",
       "      <th>2</th>\n",
       "      <td>NaN</td>\n",
       "    </tr>\n",
       "    <tr>\n",
       "      <th>3</th>\n",
       "      <td>NaN</td>\n",
       "    </tr>\n",
       "    <tr>\n",
       "      <th>4</th>\n",
       "      <td>NaN</td>\n",
       "    </tr>\n",
       "  </tbody>\n",
       "</table>\n",
       "</div>"
      ],
      "text/plain": [
       "  Carrossel\n",
       "0       NaN\n",
       "1       NaN\n",
       "2       NaN\n",
       "3       NaN\n",
       "4       NaN"
      ]
     },
     "execution_count": 14,
     "metadata": {},
     "output_type": "execute_result"
    }
   ],
   "source": [
    "# Trazendo a coluna carrossel\n",
    "\n",
    "df_carrossel = base[['Carrossel']]\n",
    "df_carrossel.head()"
   ]
  },
  {
   "cell_type": "code",
   "execution_count": 15,
   "metadata": {},
   "outputs": [
    {
     "data": {
      "application/vnd.microsoft.datawrangler.viewer.v0+json": {
       "columns": [
        {
         "name": "index",
         "rawType": "int64",
         "type": "integer"
        },
        {
         "name": "Tipo",
         "rawType": "object",
         "type": "string"
        },
        {
         "name": "Data",
         "rawType": "datetime64[ns]",
         "type": "datetime"
        },
        {
         "name": "Curtidas",
         "rawType": "int64",
         "type": "integer"
        },
        {
         "name": "Comentários",
         "rawType": "int64",
         "type": "integer"
        },
        {
         "name": "Tags",
         "rawType": "object",
         "type": "string"
        },
        {
         "name": "Pessoas",
         "rawType": "object",
         "type": "string"
        },
        {
         "name": "Campanhas",
         "rawType": "object",
         "type": "string"
        },
        {
         "name": "Carrossel",
         "rawType": "object",
         "type": "string"
        },
        {
         "name": "Interacoes ",
         "rawType": "int64",
         "type": "integer"
        }
       ],
       "conversionMethod": "pd.DataFrame",
       "ref": "f015b142-5cc8-471b-90fa-79ad9cfc0990",
       "rows": [
        [
         "0",
         "Foto",
         "2021-09-11 00:00:00",
         "2858",
         "16",
         "Loja",
         "N",
         "N",
         "N",
         "2874"
        ],
        [
         "1",
         "Foto",
         "2021-09-11 00:00:00",
         "2930",
         "28",
         "Loja/Produtos",
         "N",
         "N",
         "N",
         "2958"
        ],
        [
         "2",
         "Foto",
         "2021-09-11 00:00:00",
         "2807",
         "9",
         "Loja",
         "N",
         "N",
         "N",
         "2816"
        ],
        [
         "3",
         "Vídeo",
         "2021-09-12 00:00:00",
         "5115",
         "49",
         "Produtos",
         "N",
         "N",
         "N",
         "5164"
        ],
        [
         "4",
         "Foto",
         "2021-09-13 00:00:00",
         "4392",
         "45",
         "Produtos",
         "S",
         "N",
         "N",
         "4437"
        ]
       ],
       "shape": {
        "columns": 9,
        "rows": 5
       }
      },
      "text/html": [
       "<div>\n",
       "<style scoped>\n",
       "    .dataframe tbody tr th:only-of-type {\n",
       "        vertical-align: middle;\n",
       "    }\n",
       "\n",
       "    .dataframe tbody tr th {\n",
       "        vertical-align: top;\n",
       "    }\n",
       "\n",
       "    .dataframe thead th {\n",
       "        text-align: right;\n",
       "    }\n",
       "</style>\n",
       "<table border=\"1\" class=\"dataframe\">\n",
       "  <thead>\n",
       "    <tr style=\"text-align: right;\">\n",
       "      <th></th>\n",
       "      <th>Tipo</th>\n",
       "      <th>Data</th>\n",
       "      <th>Curtidas</th>\n",
       "      <th>Comentários</th>\n",
       "      <th>Tags</th>\n",
       "      <th>Pessoas</th>\n",
       "      <th>Campanhas</th>\n",
       "      <th>Carrossel</th>\n",
       "      <th>Interacoes</th>\n",
       "    </tr>\n",
       "  </thead>\n",
       "  <tbody>\n",
       "    <tr>\n",
       "      <th>0</th>\n",
       "      <td>Foto</td>\n",
       "      <td>2021-09-11</td>\n",
       "      <td>2858</td>\n",
       "      <td>16</td>\n",
       "      <td>Loja</td>\n",
       "      <td>N</td>\n",
       "      <td>N</td>\n",
       "      <td>N</td>\n",
       "      <td>2874</td>\n",
       "    </tr>\n",
       "    <tr>\n",
       "      <th>1</th>\n",
       "      <td>Foto</td>\n",
       "      <td>2021-09-11</td>\n",
       "      <td>2930</td>\n",
       "      <td>28</td>\n",
       "      <td>Loja/Produtos</td>\n",
       "      <td>N</td>\n",
       "      <td>N</td>\n",
       "      <td>N</td>\n",
       "      <td>2958</td>\n",
       "    </tr>\n",
       "    <tr>\n",
       "      <th>2</th>\n",
       "      <td>Foto</td>\n",
       "      <td>2021-09-11</td>\n",
       "      <td>2807</td>\n",
       "      <td>9</td>\n",
       "      <td>Loja</td>\n",
       "      <td>N</td>\n",
       "      <td>N</td>\n",
       "      <td>N</td>\n",
       "      <td>2816</td>\n",
       "    </tr>\n",
       "    <tr>\n",
       "      <th>3</th>\n",
       "      <td>Vídeo</td>\n",
       "      <td>2021-09-12</td>\n",
       "      <td>5115</td>\n",
       "      <td>49</td>\n",
       "      <td>Produtos</td>\n",
       "      <td>N</td>\n",
       "      <td>N</td>\n",
       "      <td>N</td>\n",
       "      <td>5164</td>\n",
       "    </tr>\n",
       "    <tr>\n",
       "      <th>4</th>\n",
       "      <td>Foto</td>\n",
       "      <td>2021-09-13</td>\n",
       "      <td>4392</td>\n",
       "      <td>45</td>\n",
       "      <td>Produtos</td>\n",
       "      <td>S</td>\n",
       "      <td>N</td>\n",
       "      <td>N</td>\n",
       "      <td>4437</td>\n",
       "    </tr>\n",
       "  </tbody>\n",
       "</table>\n",
       "</div>"
      ],
      "text/plain": [
       "    Tipo       Data  Curtidas  Comentários           Tags Pessoas Campanhas  \\\n",
       "0   Foto 2021-09-11      2858           16           Loja       N         N   \n",
       "1   Foto 2021-09-11      2930           28  Loja/Produtos       N         N   \n",
       "2   Foto 2021-09-11      2807            9           Loja       N         N   \n",
       "3  Vídeo 2021-09-12      5115           49       Produtos       N         N   \n",
       "4   Foto 2021-09-13      4392           45       Produtos       S         N   \n",
       "\n",
       "  Carrossel  Interacoes   \n",
       "0         N         2874  \n",
       "1         N         2958  \n",
       "2         N         2816  \n",
       "3         N         5164  \n",
       "4         N         4437  "
      ]
     },
     "execution_count": 15,
     "metadata": {},
     "output_type": "execute_result"
    }
   ],
   "source": [
    "# Atribuir valor N para essa coluna (valores nulos)\n",
    "base.loc[base['Carrossel'].isnull(), 'Carrossel'] = 'N'\n",
    "\n",
    "base.head()"
   ]
  },
  {
   "cell_type": "code",
   "execution_count": 16,
   "metadata": {},
   "outputs": [
    {
     "data": {
      "text/plain": [
       "Carrossel\n",
       "N    44\n",
       "S     8\n",
       "Name: count, dtype: int64"
      ]
     },
     "execution_count": 16,
     "metadata": {},
     "output_type": "execute_result"
    }
   ],
   "source": [
    "# Valores atuais da coluna Carrossel\n",
    "\n",
    "base['Carrossel'].value_counts()"
   ]
  },
  {
   "cell_type": "code",
   "execution_count": 17,
   "metadata": {},
   "outputs": [
    {
     "data": {
      "application/vnd.microsoft.datawrangler.viewer.v0+json": {
       "columns": [
        {
         "name": "index",
         "rawType": "object",
         "type": "string"
        },
        {
         "name": "Data",
         "rawType": "object",
         "type": "unknown"
        },
        {
         "name": "Curtidas",
         "rawType": "float64",
         "type": "float"
        },
        {
         "name": "Comentários",
         "rawType": "float64",
         "type": "float"
        },
        {
         "name": "Interacoes ",
         "rawType": "float64",
         "type": "float"
        }
       ],
       "conversionMethod": "pd.DataFrame",
       "ref": "df7e4ddc-6038-45a7-bd2b-9502f8683f0e",
       "rows": [
        [
         "count",
         "52",
         "52.0",
         "52.0",
         "52.0"
        ],
        [
         "mean",
         "2021-12-23 04:36:55.384615424",
         "12262.73076923077",
         "189.5",
         "12452.23076923077"
        ],
        [
         "min",
         "2021-09-11 00:00:00",
         "2807.0",
         "9.0",
         "2816.0"
        ],
        [
         "25%",
         "2021-10-23 06:00:00",
         "5492.0",
         "69.5",
         "5562.5"
        ],
        [
         "50%",
         "2022-01-05 00:00:00",
         "9603.0",
         "128.0",
         "9773.5"
        ],
        [
         "75%",
         "2022-02-15 12:00:00",
         "17621.75",
         "265.25",
         "17920.75"
        ],
        [
         "max",
         "2022-03-27 00:00:00",
         "37351.0",
         "852.0",
         "37853.0"
        ],
        [
         "std",
         null,
         "8165.8753264828965",
         "170.68770933387987",
         "8299.390087714537"
        ]
       ],
       "shape": {
        "columns": 4,
        "rows": 8
       }
      },
      "text/html": [
       "<div>\n",
       "<style scoped>\n",
       "    .dataframe tbody tr th:only-of-type {\n",
       "        vertical-align: middle;\n",
       "    }\n",
       "\n",
       "    .dataframe tbody tr th {\n",
       "        vertical-align: top;\n",
       "    }\n",
       "\n",
       "    .dataframe thead th {\n",
       "        text-align: right;\n",
       "    }\n",
       "</style>\n",
       "<table border=\"1\" class=\"dataframe\">\n",
       "  <thead>\n",
       "    <tr style=\"text-align: right;\">\n",
       "      <th></th>\n",
       "      <th>Data</th>\n",
       "      <th>Curtidas</th>\n",
       "      <th>Comentários</th>\n",
       "      <th>Interacoes</th>\n",
       "    </tr>\n",
       "  </thead>\n",
       "  <tbody>\n",
       "    <tr>\n",
       "      <th>count</th>\n",
       "      <td>52</td>\n",
       "      <td>52.000000</td>\n",
       "      <td>52.000000</td>\n",
       "      <td>52.000000</td>\n",
       "    </tr>\n",
       "    <tr>\n",
       "      <th>mean</th>\n",
       "      <td>2021-12-23 04:36:55.384615424</td>\n",
       "      <td>12262.730769</td>\n",
       "      <td>189.500000</td>\n",
       "      <td>12452.230769</td>\n",
       "    </tr>\n",
       "    <tr>\n",
       "      <th>min</th>\n",
       "      <td>2021-09-11 00:00:00</td>\n",
       "      <td>2807.000000</td>\n",
       "      <td>9.000000</td>\n",
       "      <td>2816.000000</td>\n",
       "    </tr>\n",
       "    <tr>\n",
       "      <th>25%</th>\n",
       "      <td>2021-10-23 06:00:00</td>\n",
       "      <td>5492.000000</td>\n",
       "      <td>69.500000</td>\n",
       "      <td>5562.500000</td>\n",
       "    </tr>\n",
       "    <tr>\n",
       "      <th>50%</th>\n",
       "      <td>2022-01-05 00:00:00</td>\n",
       "      <td>9603.000000</td>\n",
       "      <td>128.000000</td>\n",
       "      <td>9773.500000</td>\n",
       "    </tr>\n",
       "    <tr>\n",
       "      <th>75%</th>\n",
       "      <td>2022-02-15 12:00:00</td>\n",
       "      <td>17621.750000</td>\n",
       "      <td>265.250000</td>\n",
       "      <td>17920.750000</td>\n",
       "    </tr>\n",
       "    <tr>\n",
       "      <th>max</th>\n",
       "      <td>2022-03-27 00:00:00</td>\n",
       "      <td>37351.000000</td>\n",
       "      <td>852.000000</td>\n",
       "      <td>37853.000000</td>\n",
       "    </tr>\n",
       "    <tr>\n",
       "      <th>std</th>\n",
       "      <td>NaN</td>\n",
       "      <td>8165.875326</td>\n",
       "      <td>170.687709</td>\n",
       "      <td>8299.390088</td>\n",
       "    </tr>\n",
       "  </tbody>\n",
       "</table>\n",
       "</div>"
      ],
      "text/plain": [
       "                                Data      Curtidas  Comentários   Interacoes \n",
       "count                             52     52.000000    52.000000     52.000000\n",
       "mean   2021-12-23 04:36:55.384615424  12262.730769   189.500000  12452.230769\n",
       "min              2021-09-11 00:00:00   2807.000000     9.000000   2816.000000\n",
       "25%              2021-10-23 06:00:00   5492.000000    69.500000   5562.500000\n",
       "50%              2022-01-05 00:00:00   9603.000000   128.000000   9773.500000\n",
       "75%              2022-02-15 12:00:00  17621.750000   265.250000  17920.750000\n",
       "max              2022-03-27 00:00:00  37351.000000   852.000000  37853.000000\n",
       "std                              NaN   8165.875326   170.687709   8299.390088"
      ]
     },
     "execution_count": 17,
     "metadata": {},
     "output_type": "execute_result"
    }
   ],
   "source": [
    "# Descrição estatística da base\n",
    "\n",
    "base.describe()"
   ]
  },
  {
   "cell_type": "code",
   "execution_count": 18,
   "metadata": {},
   "outputs": [
    {
     "data": {
      "image/png": "[encoded data removed]",
      "text/plain": [
       "<Figure size 1400x800 with 1 Axes>"
      ]
     },
     "metadata": {},
     "output_type": "display_data"
    }
   ],
   "source": [
    "# Um gráfico de dispersão para entender melhor curtidas e comentários\n",
    "\n",
    "base.plot(kind='scatter', x='Data', y='Curtidas', color='green', figsize=(14,8));"
   ]
  },
  {
   "cell_type": "code",
   "execution_count": 19,
   "metadata": {},
   "outputs": [
    {
     "data": {
      "image/png": "[encoded data removed]",
      "text/plain": [
       "<Figure size 1400x800 with 1 Axes>"
      ]
     },
     "metadata": {},
     "output_type": "display_data"
    }
   ],
   "source": [
    "# Colocar curtidas e comentários no mesmo gráfico\n",
    "\n",
    "ax = base.plot(kind='scatter', x='Data', y='Curtidas', color='green', label='Curtidas', figsize=(14,8));\n",
    "base.plot(kind='scatter', x='Data', y='Comentários', color='red', label='Comentários', figsize=(14,8), ax=ax);"
   ]
  },
  {
   "cell_type": "code",
   "execution_count": 20,
   "metadata": {},
   "outputs": [
    {
     "data": {
      "image/png": "[encoded data removed]",
      "text/plain": [
       "<Figure size 1400x800 with 1 Axes>"
      ]
     },
     "metadata": {},
     "output_type": "display_data"
    }
   ],
   "source": [
    "# Escala de curtida atrapalha a visualização, vamos deixar comentários em um gráfico separado\n",
    "\n",
    "base.plot(kind='scatter', x='Data', y='Comentários', color='red', label='Comentários', figsize=(14,8));"
   ]
  },
  {
   "cell_type": "markdown",
   "metadata": {},
   "source": [
    "-  O gráfico e as informações não estão  dizendo muita coisa pois existe uma grande dispersão entre curtidas e comentários\n",
    "-  Precisamos verificar se existe um padrão usando as outras colunas de informações"
   ]
  },
  {
   "cell_type": "markdown",
   "metadata": {},
   "source": [
    "A PRIMEIRA COISA QUE PODEMOS FAZER É PEGAR OS 5 PRIMEIROS REGISTROS COM MAIS E MENOS CURTIDAS"
   ]
  },
  {
   "cell_type": "code",
   "execution_count": 21,
   "metadata": {},
   "outputs": [
    {
     "data": {
      "application/vnd.microsoft.datawrangler.viewer.v0+json": {
       "columns": [
        {
         "name": "index",
         "rawType": "int64",
         "type": "integer"
        },
        {
         "name": "Tipo",
         "rawType": "object",
         "type": "string"
        },
        {
         "name": "Data",
         "rawType": "datetime64[ns]",
         "type": "datetime"
        },
        {
         "name": "Curtidas",
         "rawType": "int64",
         "type": "integer"
        },
        {
         "name": "Comentários",
         "rawType": "int64",
         "type": "integer"
        },
        {
         "name": "Tags",
         "rawType": "object",
         "type": "string"
        },
        {
         "name": "Pessoas",
         "rawType": "object",
         "type": "string"
        },
        {
         "name": "Campanhas",
         "rawType": "object",
         "type": "string"
        },
        {
         "name": "Carrossel",
         "rawType": "object",
         "type": "string"
        },
        {
         "name": "Interacoes ",
         "rawType": "int64",
         "type": "integer"
        }
       ],
       "conversionMethod": "pd.DataFrame",
       "ref": "1afe20b0-8c12-4a0a-a790-7362e25ee351",
       "rows": [
        [
         "39",
         "Foto",
         "2022-02-17 00:00:00",
         "37351",
         "502",
         "Promoções",
         "S",
         "S",
         "N",
         "37853"
        ],
        [
         "30",
         "Reels",
         "2022-01-24 00:00:00",
         "29981",
         "502",
         "Trends",
         "S",
         "S",
         "N",
         "30483"
        ],
        [
         "48",
         "Foto",
         "2022-03-20 00:00:00",
         "29084",
         "479",
         "Datas comemorativas/Promoções",
         "S",
         "S",
         "N",
         "29563"
        ],
        [
         "33",
         "Foto",
         "2022-02-06 00:00:00",
         "24655",
         "186",
         "Influenciadores",
         "S",
         "S",
         "N",
         "24841"
        ],
        [
         "26",
         "Foto",
         "2022-01-08 00:00:00",
         "24585",
         "354",
         "Datas comemorativas",
         "S",
         "S",
         "S",
         "24939"
        ]
       ],
       "shape": {
        "columns": 9,
        "rows": 5
       }
      },
      "text/html": [
       "<div>\n",
       "<style scoped>\n",
       "    .dataframe tbody tr th:only-of-type {\n",
       "        vertical-align: middle;\n",
       "    }\n",
       "\n",
       "    .dataframe tbody tr th {\n",
       "        vertical-align: top;\n",
       "    }\n",
       "\n",
       "    .dataframe thead th {\n",
       "        text-align: right;\n",
       "    }\n",
       "</style>\n",
       "<table border=\"1\" class=\"dataframe\">\n",
       "  <thead>\n",
       "    <tr style=\"text-align: right;\">\n",
       "      <th></th>\n",
       "      <th>Tipo</th>\n",
       "      <th>Data</th>\n",
       "      <th>Curtidas</th>\n",
       "      <th>Comentários</th>\n",
       "      <th>Tags</th>\n",
       "      <th>Pessoas</th>\n",
       "      <th>Campanhas</th>\n",
       "      <th>Carrossel</th>\n",
       "      <th>Interacoes</th>\n",
       "    </tr>\n",
       "  </thead>\n",
       "  <tbody>\n",
       "    <tr>\n",
       "      <th>39</th>\n",
       "      <td>Foto</td>\n",
       "      <td>2022-02-17</td>\n",
       "      <td>37351</td>\n",
       "      <td>502</td>\n",
       "      <td>Promoções</td>\n",
       "      <td>S</td>\n",
       "      <td>S</td>\n",
       "      <td>N</td>\n",
       "      <td>37853</td>\n",
       "    </tr>\n",
       "    <tr>\n",
       "      <th>30</th>\n",
       "      <td>Reels</td>\n",
       "      <td>2022-01-24</td>\n",
       "      <td>29981</td>\n",
       "      <td>502</td>\n",
       "      <td>Trends</td>\n",
       "      <td>S</td>\n",
       "      <td>S</td>\n",
       "      <td>N</td>\n",
       "      <td>30483</td>\n",
       "    </tr>\n",
       "    <tr>\n",
       "      <th>48</th>\n",
       "      <td>Foto</td>\n",
       "      <td>2022-03-20</td>\n",
       "      <td>29084</td>\n",
       "      <td>479</td>\n",
       "      <td>Datas comemorativas/Promoções</td>\n",
       "      <td>S</td>\n",
       "      <td>S</td>\n",
       "      <td>N</td>\n",
       "      <td>29563</td>\n",
       "    </tr>\n",
       "    <tr>\n",
       "      <th>33</th>\n",
       "      <td>Foto</td>\n",
       "      <td>2022-02-06</td>\n",
       "      <td>24655</td>\n",
       "      <td>186</td>\n",
       "      <td>Influenciadores</td>\n",
       "      <td>S</td>\n",
       "      <td>S</td>\n",
       "      <td>N</td>\n",
       "      <td>24841</td>\n",
       "    </tr>\n",
       "    <tr>\n",
       "      <th>26</th>\n",
       "      <td>Foto</td>\n",
       "      <td>2022-01-08</td>\n",
       "      <td>24585</td>\n",
       "      <td>354</td>\n",
       "      <td>Datas comemorativas</td>\n",
       "      <td>S</td>\n",
       "      <td>S</td>\n",
       "      <td>S</td>\n",
       "      <td>24939</td>\n",
       "    </tr>\n",
       "  </tbody>\n",
       "</table>\n",
       "</div>"
      ],
      "text/plain": [
       "     Tipo       Data  Curtidas  Comentários                           Tags  \\\n",
       "39   Foto 2022-02-17     37351          502                      Promoções   \n",
       "30  Reels 2022-01-24     29981          502                         Trends   \n",
       "48   Foto 2022-03-20     29084          479  Datas comemorativas/Promoções   \n",
       "33   Foto 2022-02-06     24655          186                Influenciadores   \n",
       "26   Foto 2022-01-08     24585          354            Datas comemorativas   \n",
       "\n",
       "   Pessoas Campanhas Carrossel  Interacoes   \n",
       "39       S         S         N        37853  \n",
       "30       S         S         N        30483  \n",
       "48       S         S         N        29563  \n",
       "33       S         S         N        24841  \n",
       "26       S         S         S        24939  "
      ]
     },
     "execution_count": 21,
     "metadata": {},
     "output_type": "execute_result"
    }
   ],
   "source": [
    "# Ordenando os valores mais curtidos\n",
    "base.sort_values(by='Curtidas', ascending=False).head()"
   ]
  },
  {
   "cell_type": "code",
   "execution_count": 22,
   "metadata": {},
   "outputs": [
    {
     "data": {
      "application/vnd.microsoft.datawrangler.viewer.v0+json": {
       "columns": [
        {
         "name": "index",
         "rawType": "int64",
         "type": "integer"
        },
        {
         "name": "Tipo",
         "rawType": "object",
         "type": "string"
        },
        {
         "name": "Data",
         "rawType": "datetime64[ns]",
         "type": "datetime"
        },
        {
         "name": "Curtidas",
         "rawType": "int64",
         "type": "integer"
        },
        {
         "name": "Comentários",
         "rawType": "int64",
         "type": "integer"
        },
        {
         "name": "Tags",
         "rawType": "object",
         "type": "string"
        },
        {
         "name": "Pessoas",
         "rawType": "object",
         "type": "string"
        },
        {
         "name": "Campanhas",
         "rawType": "object",
         "type": "string"
        },
        {
         "name": "Carrossel",
         "rawType": "object",
         "type": "string"
        },
        {
         "name": "Interacoes ",
         "rawType": "int64",
         "type": "integer"
        }
       ],
       "conversionMethod": "pd.DataFrame",
       "ref": "1a8498e6-fd5f-48c0-8c21-9e6f5ba5c48f",
       "rows": [
        [
         "17",
         "Vídeo",
         "2021-11-09 00:00:00",
         "3213",
         "60",
         "Produtos",
         "N",
         "N",
         "N",
         "3273"
        ],
        [
         "1",
         "Foto",
         "2021-09-11 00:00:00",
         "2930",
         "28",
         "Loja/Produtos",
         "N",
         "N",
         "N",
         "2958"
        ],
        [
         "20",
         "Foto",
         "2021-12-16 00:00:00",
         "2881",
         "29",
         "Produtos",
         "N",
         "N",
         "N",
         "2910"
        ],
        [
         "0",
         "Foto",
         "2021-09-11 00:00:00",
         "2858",
         "16",
         "Loja",
         "N",
         "N",
         "N",
         "2874"
        ],
        [
         "2",
         "Foto",
         "2021-09-11 00:00:00",
         "2807",
         "9",
         "Loja",
         "N",
         "N",
         "N",
         "2816"
        ]
       ],
       "shape": {
        "columns": 9,
        "rows": 5
       }
      },
      "text/html": [
       "<div>\n",
       "<style scoped>\n",
       "    .dataframe tbody tr th:only-of-type {\n",
       "        vertical-align: middle;\n",
       "    }\n",
       "\n",
       "    .dataframe tbody tr th {\n",
       "        vertical-align: top;\n",
       "    }\n",
       "\n",
       "    .dataframe thead th {\n",
       "        text-align: right;\n",
       "    }\n",
       "</style>\n",
       "<table border=\"1\" class=\"dataframe\">\n",
       "  <thead>\n",
       "    <tr style=\"text-align: right;\">\n",
       "      <th></th>\n",
       "      <th>Tipo</th>\n",
       "      <th>Data</th>\n",
       "      <th>Curtidas</th>\n",
       "      <th>Comentários</th>\n",
       "      <th>Tags</th>\n",
       "      <th>Pessoas</th>\n",
       "      <th>Campanhas</th>\n",
       "      <th>Carrossel</th>\n",
       "      <th>Interacoes</th>\n",
       "    </tr>\n",
       "  </thead>\n",
       "  <tbody>\n",
       "    <tr>\n",
       "      <th>17</th>\n",
       "      <td>Vídeo</td>\n",
       "      <td>2021-11-09</td>\n",
       "      <td>3213</td>\n",
       "      <td>60</td>\n",
       "      <td>Produtos</td>\n",
       "      <td>N</td>\n",
       "      <td>N</td>\n",
       "      <td>N</td>\n",
       "      <td>3273</td>\n",
       "    </tr>\n",
       "    <tr>\n",
       "      <th>1</th>\n",
       "      <td>Foto</td>\n",
       "      <td>2021-09-11</td>\n",
       "      <td>2930</td>\n",
       "      <td>28</td>\n",
       "      <td>Loja/Produtos</td>\n",
       "      <td>N</td>\n",
       "      <td>N</td>\n",
       "      <td>N</td>\n",
       "      <td>2958</td>\n",
       "    </tr>\n",
       "    <tr>\n",
       "      <th>20</th>\n",
       "      <td>Foto</td>\n",
       "      <td>2021-12-16</td>\n",
       "      <td>2881</td>\n",
       "      <td>29</td>\n",
       "      <td>Produtos</td>\n",
       "      <td>N</td>\n",
       "      <td>N</td>\n",
       "      <td>N</td>\n",
       "      <td>2910</td>\n",
       "    </tr>\n",
       "    <tr>\n",
       "      <th>0</th>\n",
       "      <td>Foto</td>\n",
       "      <td>2021-09-11</td>\n",
       "      <td>2858</td>\n",
       "      <td>16</td>\n",
       "      <td>Loja</td>\n",
       "      <td>N</td>\n",
       "      <td>N</td>\n",
       "      <td>N</td>\n",
       "      <td>2874</td>\n",
       "    </tr>\n",
       "    <tr>\n",
       "      <th>2</th>\n",
       "      <td>Foto</td>\n",
       "      <td>2021-09-11</td>\n",
       "      <td>2807</td>\n",
       "      <td>9</td>\n",
       "      <td>Loja</td>\n",
       "      <td>N</td>\n",
       "      <td>N</td>\n",
       "      <td>N</td>\n",
       "      <td>2816</td>\n",
       "    </tr>\n",
       "  </tbody>\n",
       "</table>\n",
       "</div>"
      ],
      "text/plain": [
       "     Tipo       Data  Curtidas  Comentários           Tags Pessoas Campanhas  \\\n",
       "17  Vídeo 2021-11-09      3213           60       Produtos       N         N   \n",
       "1    Foto 2021-09-11      2930           28  Loja/Produtos       N         N   \n",
       "20   Foto 2021-12-16      2881           29       Produtos       N         N   \n",
       "0    Foto 2021-09-11      2858           16           Loja       N         N   \n",
       "2    Foto 2021-09-11      2807            9           Loja       N         N   \n",
       "\n",
       "   Carrossel  Interacoes   \n",
       "17         N         3273  \n",
       "1          N         2958  \n",
       "20         N         2910  \n",
       "0          N         2874  \n",
       "2          N         2816  "
      ]
     },
     "execution_count": 22,
     "metadata": {},
     "output_type": "execute_result"
    }
   ],
   "source": [
    "# Ordenando os valores menos curtidos\n",
    "base.sort_values(by='Curtidas', ascending=False).tail()"
   ]
  },
  {
   "cell_type": "markdown",
   "metadata": {},
   "source": [
    "- Podemos observar que no top 5 todas as postagens tinham pessoas e eram fotos de campanha\n",
    "- Nas 5 piores postagens, não haviam pessoas e nem eram postanges de campanhas\n",
    "    "
   ]
  },
  {
   "cell_type": "markdown",
   "metadata": {},
   "source": [
    "O GROUPBY NOS PERMITE AGREGAR OS DADOS, O QUE FACILITA MUITO A VISUALIZAÇÃO\n",
    "Ex.:\n",
    "\n",
    "base.groupby('Coluna1')['Coluna2'].funcao_agregacao()\n",
    "\n",
    "- O groupby vai agregar pela Coluna1, para analisar a coluna e os dados dela\n",
    "- A função de agregação será aplicada na coluna2. Vai ser a coluna que fará os cálculos"
   ]
  },
  {
   "cell_type": "code",
   "execution_count": 23,
   "metadata": {},
   "outputs": [],
   "source": [
    "# Criando padrão no formato dos valores\n",
    "pd.options.display.float_format = '{:,.2f}'.format"
   ]
  },
  {
   "cell_type": "code",
   "execution_count": 24,
   "metadata": {},
   "outputs": [
    {
     "data": {
      "text/plain": [
       "Pessoas\n",
       "N    4,256.67\n",
       "S   14,664.55\n",
       "Name: Curtidas, dtype: float64"
      ]
     },
     "execution_count": 24,
     "metadata": {},
     "output_type": "execute_result"
    }
   ],
   "source": [
    "# Média de curtidas por postagens com pessoas\n",
    "base.groupby('Pessoas')['Curtidas'].mean()"
   ]
  },
  {
   "cell_type": "code",
   "execution_count": 25,
   "metadata": {},
   "outputs": [
    {
     "data": {
      "text/plain": [
       "Pessoas\n",
       "N    52.83\n",
       "S   230.50\n",
       "Name: Comentários, dtype: float64"
      ]
     },
     "execution_count": 25,
     "metadata": {},
     "output_type": "execute_result"
    }
   ],
   "source": [
    "# Média de comentários por postagens com pessoas\n",
    "base.groupby('Pessoas')['Comentários'].mean()"
   ]
  },
  {
   "cell_type": "code",
   "execution_count": 26,
   "metadata": {},
   "outputs": [
    {
     "data": {
      "application/vnd.microsoft.datawrangler.viewer.v0+json": {
       "columns": [
        {
         "name": "Tipo",
         "rawType": "object",
         "type": "string"
        },
        {
         "name": "Curtidas",
         "rawType": "float64",
         "type": "float"
        }
       ],
       "conversionMethod": "pd.DataFrame",
       "ref": "1b70fb6a-5b71-43de-9aa0-83be5ba9bc64",
       "rows": [
        [
         "Foto",
         "13341.138888888889"
        ],
        [
         "IGTV",
         "6833.4"
        ],
        [
         "Reels",
         "14873.0"
        ],
        [
         "Vídeo",
         "8141.5"
        ]
       ],
       "shape": {
        "columns": 1,
        "rows": 4
       }
      },
      "text/html": [
       "<div>\n",
       "<style scoped>\n",
       "    .dataframe tbody tr th:only-of-type {\n",
       "        vertical-align: middle;\n",
       "    }\n",
       "\n",
       "    .dataframe tbody tr th {\n",
       "        vertical-align: top;\n",
       "    }\n",
       "\n",
       "    .dataframe thead th {\n",
       "        text-align: right;\n",
       "    }\n",
       "</style>\n",
       "<table border=\"1\" class=\"dataframe\">\n",
       "  <thead>\n",
       "    <tr style=\"text-align: right;\">\n",
       "      <th></th>\n",
       "      <th>Curtidas</th>\n",
       "    </tr>\n",
       "    <tr>\n",
       "      <th>Tipo</th>\n",
       "      <th></th>\n",
       "    </tr>\n",
       "  </thead>\n",
       "  <tbody>\n",
       "    <tr>\n",
       "      <th>Foto</th>\n",
       "      <td>13,341.14</td>\n",
       "    </tr>\n",
       "    <tr>\n",
       "      <th>IGTV</th>\n",
       "      <td>6,833.40</td>\n",
       "    </tr>\n",
       "    <tr>\n",
       "      <th>Reels</th>\n",
       "      <td>14,873.00</td>\n",
       "    </tr>\n",
       "    <tr>\n",
       "      <th>Vídeo</th>\n",
       "      <td>8,141.50</td>\n",
       "    </tr>\n",
       "  </tbody>\n",
       "</table>\n",
       "</div>"
      ],
      "text/plain": [
       "       Curtidas\n",
       "Tipo           \n",
       "Foto  13,341.14\n",
       "IGTV   6,833.40\n",
       "Reels 14,873.00\n",
       "Vídeo  8,141.50"
      ]
     },
     "execution_count": 26,
     "metadata": {},
     "output_type": "execute_result"
    }
   ],
   "source": [
    "# Média de curtidas por tipo de postagens\n",
    "base.groupby(['Tipo'])[['Curtidas']].mean()\n",
    "\n",
    "# Nesse caso pode parecer que o vídeo e o IGTV são estratégias ruins que não devem ser usadas, porém é importante lembrar que a quantidade de postagens de vídeo e IGTV é muito menor comparado a outros tipos de postagem"
   ]
  },
  {
   "cell_type": "code",
   "execution_count": 27,
   "metadata": {},
   "outputs": [
    {
     "data": {
      "text/plain": [
       "Tipo \n",
       "Foto     36\n",
       "Vídeo     6\n",
       "IGTV      5\n",
       "Reels     5\n",
       "Name: count, dtype: int64"
      ]
     },
     "execution_count": 27,
     "metadata": {},
     "output_type": "execute_result"
    }
   ],
   "source": [
    "# Localizar quantidade de vezes que cada tipo de postagem foi feita\n",
    "base[['Tipo']].value_counts()"
   ]
  },
  {
   "cell_type": "code",
   "execution_count": 28,
   "metadata": {},
   "outputs": [
    {
     "data": {
      "application/vnd.microsoft.datawrangler.viewer.v0+json": {
       "columns": [
        {
         "name": "('Tipo', 'Pessoas')",
         "rawType": "object",
         "type": "unknown"
        },
        {
         "name": "Curtidas",
         "rawType": "int64",
         "type": "integer"
        }
       ],
       "conversionMethod": "pd.DataFrame",
       "ref": "1dd54ff4-0b46-4aba-8e70-5b62ef775441",
       "rows": [
        [
         "('Foto', 'N')",
         "6"
        ],
        [
         "('Foto', 'S')",
         "30"
        ],
        [
         "('IGTV', 'S')",
         "5"
        ],
        [
         "('Reels', 'N')",
         "2"
        ],
        [
         "('Reels', 'S')",
         "3"
        ],
        [
         "('Vídeo', 'N')",
         "4"
        ],
        [
         "('Vídeo', 'S')",
         "2"
        ]
       ],
       "shape": {
        "columns": 1,
        "rows": 7
       }
      },
      "text/html": [
       "<div>\n",
       "<style scoped>\n",
       "    .dataframe tbody tr th:only-of-type {\n",
       "        vertical-align: middle;\n",
       "    }\n",
       "\n",
       "    .dataframe tbody tr th {\n",
       "        vertical-align: top;\n",
       "    }\n",
       "\n",
       "    .dataframe thead th {\n",
       "        text-align: right;\n",
       "    }\n",
       "</style>\n",
       "<table border=\"1\" class=\"dataframe\">\n",
       "  <thead>\n",
       "    <tr style=\"text-align: right;\">\n",
       "      <th></th>\n",
       "      <th></th>\n",
       "      <th>Curtidas</th>\n",
       "    </tr>\n",
       "    <tr>\n",
       "      <th>Tipo</th>\n",
       "      <th>Pessoas</th>\n",
       "      <th></th>\n",
       "    </tr>\n",
       "  </thead>\n",
       "  <tbody>\n",
       "    <tr>\n",
       "      <th rowspan=\"2\" valign=\"top\">Foto</th>\n",
       "      <th>N</th>\n",
       "      <td>6</td>\n",
       "    </tr>\n",
       "    <tr>\n",
       "      <th>S</th>\n",
       "      <td>30</td>\n",
       "    </tr>\n",
       "    <tr>\n",
       "      <th>IGTV</th>\n",
       "      <th>S</th>\n",
       "      <td>5</td>\n",
       "    </tr>\n",
       "    <tr>\n",
       "      <th rowspan=\"2\" valign=\"top\">Reels</th>\n",
       "      <th>N</th>\n",
       "      <td>2</td>\n",
       "    </tr>\n",
       "    <tr>\n",
       "      <th>S</th>\n",
       "      <td>3</td>\n",
       "    </tr>\n",
       "    <tr>\n",
       "      <th rowspan=\"2\" valign=\"top\">Vídeo</th>\n",
       "      <th>N</th>\n",
       "      <td>4</td>\n",
       "    </tr>\n",
       "    <tr>\n",
       "      <th>S</th>\n",
       "      <td>2</td>\n",
       "    </tr>\n",
       "  </tbody>\n",
       "</table>\n",
       "</div>"
      ],
      "text/plain": [
       "               Curtidas\n",
       "Tipo  Pessoas          \n",
       "Foto  N               6\n",
       "      S              30\n",
       "IGTV  S               5\n",
       "Reels N               2\n",
       "      S               3\n",
       "Vídeo N               4\n",
       "      S               2"
      ]
     },
     "execution_count": 28,
     "metadata": {},
     "output_type": "execute_result"
    }
   ],
   "source": [
    "# Agregando por tipo e pessoas\n",
    "base.groupby(['Tipo', 'Pessoas'])[['Curtidas']].count() # Para adicionar mais colunas basta por colchetes dentro dos parenteses"
   ]
  },
  {
   "cell_type": "code",
   "execution_count": 29,
   "metadata": {},
   "outputs": [
    {
     "data": {
      "application/vnd.microsoft.datawrangler.viewer.v0+json": {
       "columns": [
        {
         "name": "('Tipo', 'Pessoas')",
         "rawType": "object",
         "type": "unknown"
        },
        {
         "name": "Curtidas",
         "rawType": "float64",
         "type": "float"
        },
        {
         "name": "Comentários",
         "rawType": "float64",
         "type": "float"
        }
       ],
       "conversionMethod": "pd.DataFrame",
       "ref": "aef161ec-4897-4c04-8dd7-7771cdd3b23b",
       "rows": [
        [
         "('Foto', 'N')",
         "3863.5",
         "29.5"
        ],
        [
         "('Foto', 'S')",
         "15236.666666666666",
         "226.2"
        ],
        [
         "('IGTV', 'S')",
         "6833.4",
         "133.6"
        ],
        [
         "('Reels', 'N')",
         "5934.5",
         "98.0"
        ],
        [
         "('Reels', 'S')",
         "20832.0",
         "342.0"
        ],
        [
         "('Vídeo', 'N')",
         "4007.5",
         "65.25"
        ],
        [
         "('Vídeo', 'S')",
         "16409.5",
         "370.0"
        ]
       ],
       "shape": {
        "columns": 2,
        "rows": 7
       }
      },
      "text/html": [
       "<div>\n",
       "<style scoped>\n",
       "    .dataframe tbody tr th:only-of-type {\n",
       "        vertical-align: middle;\n",
       "    }\n",
       "\n",
       "    .dataframe tbody tr th {\n",
       "        vertical-align: top;\n",
       "    }\n",
       "\n",
       "    .dataframe thead th {\n",
       "        text-align: right;\n",
       "    }\n",
       "</style>\n",
       "<table border=\"1\" class=\"dataframe\">\n",
       "  <thead>\n",
       "    <tr style=\"text-align: right;\">\n",
       "      <th></th>\n",
       "      <th></th>\n",
       "      <th>Curtidas</th>\n",
       "      <th>Comentários</th>\n",
       "    </tr>\n",
       "    <tr>\n",
       "      <th>Tipo</th>\n",
       "      <th>Pessoas</th>\n",
       "      <th></th>\n",
       "      <th></th>\n",
       "    </tr>\n",
       "  </thead>\n",
       "  <tbody>\n",
       "    <tr>\n",
       "      <th rowspan=\"2\" valign=\"top\">Foto</th>\n",
       "      <th>N</th>\n",
       "      <td>3,863.50</td>\n",
       "      <td>29.50</td>\n",
       "    </tr>\n",
       "    <tr>\n",
       "      <th>S</th>\n",
       "      <td>15,236.67</td>\n",
       "      <td>226.20</td>\n",
       "    </tr>\n",
       "    <tr>\n",
       "      <th>IGTV</th>\n",
       "      <th>S</th>\n",
       "      <td>6,833.40</td>\n",
       "      <td>133.60</td>\n",
       "    </tr>\n",
       "    <tr>\n",
       "      <th rowspan=\"2\" valign=\"top\">Reels</th>\n",
       "      <th>N</th>\n",
       "      <td>5,934.50</td>\n",
       "      <td>98.00</td>\n",
       "    </tr>\n",
       "    <tr>\n",
       "      <th>S</th>\n",
       "      <td>20,832.00</td>\n",
       "      <td>342.00</td>\n",
       "    </tr>\n",
       "    <tr>\n",
       "      <th rowspan=\"2\" valign=\"top\">Vídeo</th>\n",
       "      <th>N</th>\n",
       "      <td>4,007.50</td>\n",
       "      <td>65.25</td>\n",
       "    </tr>\n",
       "    <tr>\n",
       "      <th>S</th>\n",
       "      <td>16,409.50</td>\n",
       "      <td>370.00</td>\n",
       "    </tr>\n",
       "  </tbody>\n",
       "</table>\n",
       "</div>"
      ],
      "text/plain": [
       "               Curtidas  Comentários\n",
       "Tipo  Pessoas                       \n",
       "Foto  N        3,863.50        29.50\n",
       "      S       15,236.67       226.20\n",
       "IGTV  S        6,833.40       133.60\n",
       "Reels N        5,934.50        98.00\n",
       "      S       20,832.00       342.00\n",
       "Vídeo N        4,007.50        65.25\n",
       "      S       16,409.50       370.00"
      ]
     },
     "execution_count": 29,
     "metadata": {},
     "output_type": "execute_result"
    }
   ],
   "source": [
    "base.groupby(['Tipo', 'Pessoas'])[['Curtidas', 'Comentários']].mean() # Estamos visualizando as informações pelo tipo e pelas pessoas e aplicando função mean para curtidas e comentários"
   ]
  },
  {
   "cell_type": "code",
   "execution_count": 30,
   "metadata": {},
   "outputs": [
    {
     "data": {
      "application/vnd.microsoft.datawrangler.viewer.v0+json": {
       "columns": [
        {
         "name": "('Tipo', 'Pessoas', 'Campanhas')",
         "rawType": "object",
         "type": "unknown"
        },
        {
         "name": "Curtidas",
         "rawType": "float64",
         "type": "float"
        },
        {
         "name": "Comentários",
         "rawType": "float64",
         "type": "float"
        }
       ],
       "conversionMethod": "pd.DataFrame",
       "ref": "ca5306c9-2df2-4758-9091-6cc5a03bd18a",
       "rows": [
        [
         "('Foto', 'N', 'N')",
         "2869.0",
         "20.5"
        ],
        [
         "('Foto', 'N', 'S')",
         "5852.5",
         "47.5"
        ],
        [
         "('Foto', 'S', 'N')",
         "10815.285714285714",
         "159.92857142857142"
        ],
        [
         "('Foto', 'S', 'S')",
         "19105.375",
         "284.1875"
        ],
        [
         "('IGTV', 'S', 'N')",
         "6833.4",
         "133.6"
        ],
        [
         "('Reels', 'N', 'N')",
         "5934.5",
         "98.0"
        ],
        [
         "('Reels', 'S', 'N')",
         "12894.0",
         "249.0"
        ],
        [
         "('Reels', 'S', 'S')",
         "24801.0",
         "388.5"
        ],
        [
         "('Vídeo', 'N', 'N')",
         "4007.5",
         "65.25"
        ],
        [
         "('Vídeo', 'S', 'S')",
         "16409.5",
         "370.0"
        ]
       ],
       "shape": {
        "columns": 2,
        "rows": 10
       }
      },
      "text/html": [
       "<div>\n",
       "<style scoped>\n",
       "    .dataframe tbody tr th:only-of-type {\n",
       "        vertical-align: middle;\n",
       "    }\n",
       "\n",
       "    .dataframe tbody tr th {\n",
       "        vertical-align: top;\n",
       "    }\n",
       "\n",
       "    .dataframe thead th {\n",
       "        text-align: right;\n",
       "    }\n",
       "</style>\n",
       "<table border=\"1\" class=\"dataframe\">\n",
       "  <thead>\n",
       "    <tr style=\"text-align: right;\">\n",
       "      <th></th>\n",
       "      <th></th>\n",
       "      <th></th>\n",
       "      <th>Curtidas</th>\n",
       "      <th>Comentários</th>\n",
       "    </tr>\n",
       "    <tr>\n",
       "      <th>Tipo</th>\n",
       "      <th>Pessoas</th>\n",
       "      <th>Campanhas</th>\n",
       "      <th></th>\n",
       "      <th></th>\n",
       "    </tr>\n",
       "  </thead>\n",
       "  <tbody>\n",
       "    <tr>\n",
       "      <th rowspan=\"4\" valign=\"top\">Foto</th>\n",
       "      <th rowspan=\"2\" valign=\"top\">N</th>\n",
       "      <th>N</th>\n",
       "      <td>2,869.00</td>\n",
       "      <td>20.50</td>\n",
       "    </tr>\n",
       "    <tr>\n",
       "      <th>S</th>\n",
       "      <td>5,852.50</td>\n",
       "      <td>47.50</td>\n",
       "    </tr>\n",
       "    <tr>\n",
       "      <th rowspan=\"2\" valign=\"top\">S</th>\n",
       "      <th>N</th>\n",
       "      <td>10,815.29</td>\n",
       "      <td>159.93</td>\n",
       "    </tr>\n",
       "    <tr>\n",
       "      <th>S</th>\n",
       "      <td>19,105.38</td>\n",
       "      <td>284.19</td>\n",
       "    </tr>\n",
       "    <tr>\n",
       "      <th>IGTV</th>\n",
       "      <th>S</th>\n",
       "      <th>N</th>\n",
       "      <td>6,833.40</td>\n",
       "      <td>133.60</td>\n",
       "    </tr>\n",
       "    <tr>\n",
       "      <th rowspan=\"3\" valign=\"top\">Reels</th>\n",
       "      <th>N</th>\n",
       "      <th>N</th>\n",
       "      <td>5,934.50</td>\n",
       "      <td>98.00</td>\n",
       "    </tr>\n",
       "    <tr>\n",
       "      <th rowspan=\"2\" valign=\"top\">S</th>\n",
       "      <th>N</th>\n",
       "      <td>12,894.00</td>\n",
       "      <td>249.00</td>\n",
       "    </tr>\n",
       "    <tr>\n",
       "      <th>S</th>\n",
       "      <td>24,801.00</td>\n",
       "      <td>388.50</td>\n",
       "    </tr>\n",
       "    <tr>\n",
       "      <th rowspan=\"2\" valign=\"top\">Vídeo</th>\n",
       "      <th>N</th>\n",
       "      <th>N</th>\n",
       "      <td>4,007.50</td>\n",
       "      <td>65.25</td>\n",
       "    </tr>\n",
       "    <tr>\n",
       "      <th>S</th>\n",
       "      <th>S</th>\n",
       "      <td>16,409.50</td>\n",
       "      <td>370.00</td>\n",
       "    </tr>\n",
       "  </tbody>\n",
       "</table>\n",
       "</div>"
      ],
      "text/plain": [
       "                         Curtidas  Comentários\n",
       "Tipo  Pessoas Campanhas                       \n",
       "Foto  N       N          2,869.00        20.50\n",
       "              S          5,852.50        47.50\n",
       "      S       N         10,815.29       159.93\n",
       "              S         19,105.38       284.19\n",
       "IGTV  S       N          6,833.40       133.60\n",
       "Reels N       N          5,934.50        98.00\n",
       "      S       N         12,894.00       249.00\n",
       "              S         24,801.00       388.50\n",
       "Vídeo N       N          4,007.50        65.25\n",
       "      S       S         16,409.50       370.00"
      ]
     },
     "execution_count": 30,
     "metadata": {},
     "output_type": "execute_result"
    }
   ],
   "source": [
    "base.groupby(['Tipo', 'Pessoas', 'Campanhas'])[['Curtidas', 'Comentários']].mean() # Agora estamos adicionando campanhas, porém é uma visualização muito poluída"
   ]
  },
  {
   "cell_type": "code",
   "execution_count": 31,
   "metadata": {},
   "outputs": [
    {
     "data": {
      "application/vnd.microsoft.datawrangler.viewer.v0+json": {
       "columns": [
        {
         "name": "Pessoas",
         "rawType": "object",
         "type": "string"
        },
        {
         "name": "Curtidas",
         "rawType": "float64",
         "type": "float"
        },
        {
         "name": "Comentários",
         "rawType": "float64",
         "type": "float"
        }
       ],
       "conversionMethod": "pd.DataFrame",
       "ref": "8a7cb3d7-50fd-4ae1-8e0b-c943c3899910",
       "rows": [
        [
         "N",
         "4256.666666666667",
         "52.833333333333336"
        ],
        [
         "S",
         "14664.55",
         "230.5"
        ]
       ],
       "shape": {
        "columns": 2,
        "rows": 2
       }
      },
      "text/html": [
       "<div>\n",
       "<style scoped>\n",
       "    .dataframe tbody tr th:only-of-type {\n",
       "        vertical-align: middle;\n",
       "    }\n",
       "\n",
       "    .dataframe tbody tr th {\n",
       "        vertical-align: top;\n",
       "    }\n",
       "\n",
       "    .dataframe thead th {\n",
       "        text-align: right;\n",
       "    }\n",
       "</style>\n",
       "<table border=\"1\" class=\"dataframe\">\n",
       "  <thead>\n",
       "    <tr style=\"text-align: right;\">\n",
       "      <th></th>\n",
       "      <th>Curtidas</th>\n",
       "      <th>Comentários</th>\n",
       "    </tr>\n",
       "    <tr>\n",
       "      <th>Pessoas</th>\n",
       "      <th></th>\n",
       "      <th></th>\n",
       "    </tr>\n",
       "  </thead>\n",
       "  <tbody>\n",
       "    <tr>\n",
       "      <th>N</th>\n",
       "      <td>4,256.67</td>\n",
       "      <td>52.83</td>\n",
       "    </tr>\n",
       "    <tr>\n",
       "      <th>S</th>\n",
       "      <td>14,664.55</td>\n",
       "      <td>230.50</td>\n",
       "    </tr>\n",
       "  </tbody>\n",
       "</table>\n",
       "</div>"
      ],
      "text/plain": [
       "         Curtidas  Comentários\n",
       "Pessoas                       \n",
       "N        4,256.67        52.83\n",
       "S       14,664.55       230.50"
      ]
     },
     "execution_count": 31,
     "metadata": {},
     "output_type": "execute_result"
    }
   ],
   "source": [
    "base.groupby(['Pessoas'])[['Curtidas', 'Comentários']].mean() # Somente por pessoas"
   ]
  },
  {
   "cell_type": "code",
   "execution_count": 32,
   "metadata": {},
   "outputs": [
    {
     "data": {
      "application/vnd.microsoft.datawrangler.viewer.v0+json": {
       "columns": [
        {
         "name": "Campanhas",
         "rawType": "object",
         "type": "string"
        },
        {
         "name": "Curtidas",
         "rawType": "float64",
         "type": "float"
        },
        {
         "name": "Comentários",
         "rawType": "float64",
         "type": "float"
        }
       ],
       "conversionMethod": "pd.DataFrame",
       "ref": "334a0a6a-7e9d-4fa9-8e68-cc60e45e96bf",
       "rows": [
        [
         "N",
         "7928.333333333333",
         "123.16666666666667"
        ],
        [
         "S",
         "18173.272727272728",
         "279.95454545454544"
        ]
       ],
       "shape": {
        "columns": 2,
        "rows": 2
       }
      },
      "text/html": [
       "<div>\n",
       "<style scoped>\n",
       "    .dataframe tbody tr th:only-of-type {\n",
       "        vertical-align: middle;\n",
       "    }\n",
       "\n",
       "    .dataframe tbody tr th {\n",
       "        vertical-align: top;\n",
       "    }\n",
       "\n",
       "    .dataframe thead th {\n",
       "        text-align: right;\n",
       "    }\n",
       "</style>\n",
       "<table border=\"1\" class=\"dataframe\">\n",
       "  <thead>\n",
       "    <tr style=\"text-align: right;\">\n",
       "      <th></th>\n",
       "      <th>Curtidas</th>\n",
       "      <th>Comentários</th>\n",
       "    </tr>\n",
       "    <tr>\n",
       "      <th>Campanhas</th>\n",
       "      <th></th>\n",
       "      <th></th>\n",
       "    </tr>\n",
       "  </thead>\n",
       "  <tbody>\n",
       "    <tr>\n",
       "      <th>N</th>\n",
       "      <td>7,928.33</td>\n",
       "      <td>123.17</td>\n",
       "    </tr>\n",
       "    <tr>\n",
       "      <th>S</th>\n",
       "      <td>18,173.27</td>\n",
       "      <td>279.95</td>\n",
       "    </tr>\n",
       "  </tbody>\n",
       "</table>\n",
       "</div>"
      ],
      "text/plain": [
       "           Curtidas  Comentários\n",
       "Campanhas                       \n",
       "N          7,928.33       123.17\n",
       "S         18,173.27       279.95"
      ]
     },
     "execution_count": 32,
     "metadata": {},
     "output_type": "execute_result"
    }
   ],
   "source": [
    "base.groupby(['Campanhas'])[['Curtidas', 'Comentários']].mean() # Somente por campanhas"
   ]
  },
  {
   "cell_type": "markdown",
   "metadata": {},
   "source": [
    "- QUANDO É UMA POSTAGEM DE CAMPANHA, O ENGAJAMENTO TAMBÉM É MELHOR!"
   ]
  },
  {
   "cell_type": "code",
   "execution_count": 33,
   "metadata": {},
   "outputs": [
    {
     "data": {
      "application/vnd.microsoft.datawrangler.viewer.v0+json": {
       "columns": [
        {
         "name": "index",
         "rawType": "int64",
         "type": "integer"
        },
        {
         "name": "Tipo",
         "rawType": "object",
         "type": "string"
        },
        {
         "name": "Curtidas",
         "rawType": "float64",
         "type": "float"
        },
        {
         "name": "Comentários",
         "rawType": "float64",
         "type": "float"
        }
       ],
       "conversionMethod": "pd.DataFrame",
       "ref": "efe7ceb7-3621-40f6-82d7-9a89712e254e",
       "rows": [
        [
         "0",
         "Foto",
         "13341.138888888889",
         "193.41666666666666"
        ],
        [
         "1",
         "IGTV",
         "6833.4",
         "133.6"
        ],
        [
         "2",
         "Reels",
         "14873.0",
         "244.4"
        ],
        [
         "3",
         "Vídeo",
         "8141.5",
         "166.83333333333334"
        ]
       ],
       "shape": {
        "columns": 3,
        "rows": 4
       }
      },
      "text/html": [
       "<div>\n",
       "<style scoped>\n",
       "    .dataframe tbody tr th:only-of-type {\n",
       "        vertical-align: middle;\n",
       "    }\n",
       "\n",
       "    .dataframe tbody tr th {\n",
       "        vertical-align: top;\n",
       "    }\n",
       "\n",
       "    .dataframe thead th {\n",
       "        text-align: right;\n",
       "    }\n",
       "</style>\n",
       "<table border=\"1\" class=\"dataframe\">\n",
       "  <thead>\n",
       "    <tr style=\"text-align: right;\">\n",
       "      <th></th>\n",
       "      <th>Tipo</th>\n",
       "      <th>Curtidas</th>\n",
       "      <th>Comentários</th>\n",
       "    </tr>\n",
       "  </thead>\n",
       "  <tbody>\n",
       "    <tr>\n",
       "      <th>0</th>\n",
       "      <td>Foto</td>\n",
       "      <td>13,341.14</td>\n",
       "      <td>193.42</td>\n",
       "    </tr>\n",
       "    <tr>\n",
       "      <th>1</th>\n",
       "      <td>IGTV</td>\n",
       "      <td>6,833.40</td>\n",
       "      <td>133.60</td>\n",
       "    </tr>\n",
       "    <tr>\n",
       "      <th>2</th>\n",
       "      <td>Reels</td>\n",
       "      <td>14,873.00</td>\n",
       "      <td>244.40</td>\n",
       "    </tr>\n",
       "    <tr>\n",
       "      <th>3</th>\n",
       "      <td>Vídeo</td>\n",
       "      <td>8,141.50</td>\n",
       "      <td>166.83</td>\n",
       "    </tr>\n",
       "  </tbody>\n",
       "</table>\n",
       "</div>"
      ],
      "text/plain": [
       "    Tipo  Curtidas  Comentários\n",
       "0   Foto 13,341.14       193.42\n",
       "1   IGTV  6,833.40       133.60\n",
       "2  Reels 14,873.00       244.40\n",
       "3  Vídeo  8,141.50       166.83"
      ]
     },
     "execution_count": 33,
     "metadata": {},
     "output_type": "execute_result"
    }
   ],
   "source": [
    "base.groupby(['Tipo'])[['Curtidas', 'Comentários']].mean().reset_index() # Somente por tipo"
   ]
  },
  {
   "cell_type": "code",
   "execution_count": 34,
   "metadata": {},
   "outputs": [
    {
     "data": {
      "application/vnd.microsoft.datawrangler.viewer.v0+json": {
       "columns": [
        {
         "name": "index",
         "rawType": "int64",
         "type": "integer"
        },
        {
         "name": "Carrossel",
         "rawType": "object",
         "type": "string"
        },
        {
         "name": "Curtidas",
         "rawType": "float64",
         "type": "float"
        },
        {
         "name": "Comentários",
         "rawType": "float64",
         "type": "float"
        }
       ],
       "conversionMethod": "pd.DataFrame",
       "ref": "65035c0a-0e08-4977-a4f6-9760a77b9090",
       "rows": [
        [
         "0",
         "N",
         "12343.613636363636",
         "198.4318181818182"
        ],
        [
         "1",
         "S",
         "11817.875",
         "140.375"
        ]
       ],
       "shape": {
        "columns": 3,
        "rows": 2
       }
      },
      "text/html": [
       "<div>\n",
       "<style scoped>\n",
       "    .dataframe tbody tr th:only-of-type {\n",
       "        vertical-align: middle;\n",
       "    }\n",
       "\n",
       "    .dataframe tbody tr th {\n",
       "        vertical-align: top;\n",
       "    }\n",
       "\n",
       "    .dataframe thead th {\n",
       "        text-align: right;\n",
       "    }\n",
       "</style>\n",
       "<table border=\"1\" class=\"dataframe\">\n",
       "  <thead>\n",
       "    <tr style=\"text-align: right;\">\n",
       "      <th></th>\n",
       "      <th>Carrossel</th>\n",
       "      <th>Curtidas</th>\n",
       "      <th>Comentários</th>\n",
       "    </tr>\n",
       "  </thead>\n",
       "  <tbody>\n",
       "    <tr>\n",
       "      <th>0</th>\n",
       "      <td>N</td>\n",
       "      <td>12,343.61</td>\n",
       "      <td>198.43</td>\n",
       "    </tr>\n",
       "    <tr>\n",
       "      <th>1</th>\n",
       "      <td>S</td>\n",
       "      <td>11,817.88</td>\n",
       "      <td>140.38</td>\n",
       "    </tr>\n",
       "  </tbody>\n",
       "</table>\n",
       "</div>"
      ],
      "text/plain": [
       "  Carrossel  Curtidas  Comentários\n",
       "0         N 12,343.61       198.43\n",
       "1         S 11,817.88       140.38"
      ]
     },
     "execution_count": 34,
     "metadata": {},
     "output_type": "execute_result"
    }
   ],
   "source": [
    "# Carrossel sem filtrar a base --> Está errado essa comparação\n",
    "base.groupby(['Carrossel'])[['Curtidas', 'Comentários']].mean().reset_index()"
   ]
  },
  {
   "cell_type": "code",
   "execution_count": 35,
   "metadata": {},
   "outputs": [
    {
     "data": {
      "application/vnd.microsoft.datawrangler.viewer.v0+json": {
       "columns": [
        {
         "name": "index",
         "rawType": "int64",
         "type": "integer"
        },
        {
         "name": "Carrossel",
         "rawType": "object",
         "type": "string"
        },
        {
         "name": "Curtidas",
         "rawType": "float64",
         "type": "float"
        },
        {
         "name": "Comentários",
         "rawType": "float64",
         "type": "float"
        }
       ],
       "conversionMethod": "pd.DataFrame",
       "ref": "527df6fe-9e89-4bf6-8b79-fea841ee9f1a",
       "rows": [
        [
         "0",
         "N",
         "13776.357142857143",
         "208.57142857142858"
        ],
        [
         "1",
         "S",
         "11817.875",
         "140.375"
        ]
       ],
       "shape": {
        "columns": 3,
        "rows": 2
       }
      },
      "text/html": [
       "<div>\n",
       "<style scoped>\n",
       "    .dataframe tbody tr th:only-of-type {\n",
       "        vertical-align: middle;\n",
       "    }\n",
       "\n",
       "    .dataframe tbody tr th {\n",
       "        vertical-align: top;\n",
       "    }\n",
       "\n",
       "    .dataframe thead th {\n",
       "        text-align: right;\n",
       "    }\n",
       "</style>\n",
       "<table border=\"1\" class=\"dataframe\">\n",
       "  <thead>\n",
       "    <tr style=\"text-align: right;\">\n",
       "      <th></th>\n",
       "      <th>Carrossel</th>\n",
       "      <th>Curtidas</th>\n",
       "      <th>Comentários</th>\n",
       "    </tr>\n",
       "  </thead>\n",
       "  <tbody>\n",
       "    <tr>\n",
       "      <th>0</th>\n",
       "      <td>N</td>\n",
       "      <td>13,776.36</td>\n",
       "      <td>208.57</td>\n",
       "    </tr>\n",
       "    <tr>\n",
       "      <th>1</th>\n",
       "      <td>S</td>\n",
       "      <td>11,817.88</td>\n",
       "      <td>140.38</td>\n",
       "    </tr>\n",
       "  </tbody>\n",
       "</table>\n",
       "</div>"
      ],
      "text/plain": [
       "  Carrossel  Curtidas  Comentários\n",
       "0         N 13,776.36       208.57\n",
       "1         S 11,817.88       140.38"
      ]
     },
     "execution_count": 35,
     "metadata": {},
     "output_type": "execute_result"
    }
   ],
   "source": [
    "# Podemos também filtrar a base\n",
    "base[base.Tipo == 'Foto'].groupby(['Carrossel'])[['Curtidas', 'Comentários']].mean().reset_index()"
   ]
  },
  {
   "cell_type": "markdown",
   "metadata": {},
   "source": [
    "-- A MÉDIA SEM USAR CARROSSEL É A MELHOR DO QUE QUANDO USAMOS, ENTÃO NÃO É ALGO QUE POSSA IMPACTAR TANTO NO RESULTAD DAS MÍDIAS DESSA EMPRESA OLHANDO INICIALMENTE\n",
    "\n",
    "        - Nesse caso devemos filtrar apenas as fotos pois só temos carrossel em fotos. Sem esse filtro estaríamos comparando coisas erradas\n",
    "\n",
    "Colocando pessoas e campanhas juntos podemos ver como se dá essa diferença"
   ]
  },
  {
   "cell_type": "code",
   "execution_count": 36,
   "metadata": {},
   "outputs": [
    {
     "data": {
      "application/vnd.microsoft.datawrangler.viewer.v0+json": {
       "columns": [
        {
         "name": "index",
         "rawType": "int64",
         "type": "integer"
        },
        {
         "name": "Pessoas",
         "rawType": "object",
         "type": "string"
        },
        {
         "name": "Campanhas",
         "rawType": "object",
         "type": "string"
        },
        {
         "name": "Curtidas",
         "rawType": "float64",
         "type": "float"
        },
        {
         "name": "Comentários",
         "rawType": "float64",
         "type": "float"
        }
       ],
       "conversionMethod": "pd.DataFrame",
       "ref": "b2739245-3199-444b-971b-607d3e433e40",
       "rows": [
        [
         "0",
         "N",
         "N",
         "3937.5",
         "53.9"
        ],
        [
         "1",
         "N",
         "S",
         "5852.5",
         "47.5"
        ],
        [
         "2",
         "S",
         "N",
         "9923.75",
         "157.8"
        ],
        [
         "3",
         "S",
         "S",
         "19405.35",
         "303.2"
        ]
       ],
       "shape": {
        "columns": 4,
        "rows": 4
       }
      },
      "text/html": [
       "<div>\n",
       "<style scoped>\n",
       "    .dataframe tbody tr th:only-of-type {\n",
       "        vertical-align: middle;\n",
       "    }\n",
       "\n",
       "    .dataframe tbody tr th {\n",
       "        vertical-align: top;\n",
       "    }\n",
       "\n",
       "    .dataframe thead th {\n",
       "        text-align: right;\n",
       "    }\n",
       "</style>\n",
       "<table border=\"1\" class=\"dataframe\">\n",
       "  <thead>\n",
       "    <tr style=\"text-align: right;\">\n",
       "      <th></th>\n",
       "      <th>Pessoas</th>\n",
       "      <th>Campanhas</th>\n",
       "      <th>Curtidas</th>\n",
       "      <th>Comentários</th>\n",
       "    </tr>\n",
       "  </thead>\n",
       "  <tbody>\n",
       "    <tr>\n",
       "      <th>0</th>\n",
       "      <td>N</td>\n",
       "      <td>N</td>\n",
       "      <td>3,937.50</td>\n",
       "      <td>53.90</td>\n",
       "    </tr>\n",
       "    <tr>\n",
       "      <th>1</th>\n",
       "      <td>N</td>\n",
       "      <td>S</td>\n",
       "      <td>5,852.50</td>\n",
       "      <td>47.50</td>\n",
       "    </tr>\n",
       "    <tr>\n",
       "      <th>2</th>\n",
       "      <td>S</td>\n",
       "      <td>N</td>\n",
       "      <td>9,923.75</td>\n",
       "      <td>157.80</td>\n",
       "    </tr>\n",
       "    <tr>\n",
       "      <th>3</th>\n",
       "      <td>S</td>\n",
       "      <td>S</td>\n",
       "      <td>19,405.35</td>\n",
       "      <td>303.20</td>\n",
       "    </tr>\n",
       "  </tbody>\n",
       "</table>\n",
       "</div>"
      ],
      "text/plain": [
       "  Pessoas Campanhas  Curtidas  Comentários\n",
       "0       N         N  3,937.50        53.90\n",
       "1       N         S  5,852.50        47.50\n",
       "2       S         N  9,923.75       157.80\n",
       "3       S         S 19,405.35       303.20"
      ]
     },
     "execution_count": 36,
     "metadata": {},
     "output_type": "execute_result"
    }
   ],
   "source": [
    "# Agregando por pessoas e campanhas\n",
    "base.groupby(['Pessoas', 'Campanhas'])[['Curtidas', 'Comentários']].mean().reset_index()\n",
    "\n",
    "# ATENÇÃO: O pandas usa MultiIndex no groupby() e oculta valores repetidos no índice visualmente.\n",
    "# Isso significa que, se um valor já apareceu na linha anterior, ele não será repetido na exibição,\n",
    "# mas continua existindo na estrutura do DataFrame.\n",
    "#\n",
    "# Para visualizar corretamente e evitar confusão, use:\n",
    "# base.groupby(['Pessoas', 'Campanhas'])[['Curtidas', 'Comentários']].mean().reset_index()\n",
    "# Isso transforma o MultiIndex em colunas normais, tornando todas as combinações explícitas.\n",
    "#\n",
    "# O MultiIndex é um tipo de índice hierárquico no pandas que permite organizar os dados em mais de um nível. Ele é criado automaticamente quando usamos groupby() com múltiplas colunas ou quando estruturamos dados de forma mais complexa. "
   ]
  },
  {
   "cell_type": "markdown",
   "metadata": {},
   "source": [
    "- A MÉDIA QUANDO TEM PESSOAS E É PUBLICAÇÃO DE CAMPANHAS É DE CARCA DE 19,4 MIL CURTIDAS, JÁ QUANDO É APENAS PESSOAS (SEM CAMPANHA PASSA PARA QUASE 10 MIL E SE NÃO TIVER PESSOAS CHEGA NO MÁXIMO A 5,9 MIL MESMO EM CAMPANHAS)\n",
    "\n",
    "- NESSE CASO A GENTE JÁ CONSEGUE MOSTRAR PARA A EMPRESA A IMPORTÂNCIA DE INCLUIR PESSOAS USANDO OS SEUS PRODUTOS, O QUE GERA UM AUMENTO CONSIDERÁVEL NO ENGAJAMENTO"
   ]
  },
  {
   "cell_type": "code",
   "execution_count": 37,
   "metadata": {},
   "outputs": [
    {
     "data": {
      "application/vnd.microsoft.datawrangler.viewer.v0+json": {
       "columns": [
        {
         "name": "index",
         "rawType": "int64",
         "type": "integer"
        },
        {
         "name": "Pessoas",
         "rawType": "object",
         "type": "string"
        },
        {
         "name": "Campanhas",
         "rawType": "object",
         "type": "string"
        },
        {
         "name": "Tipo",
         "rawType": "object",
         "type": "string"
        },
        {
         "name": "Curtidas",
         "rawType": "float64",
         "type": "float"
        },
        {
         "name": "Comentários",
         "rawType": "float64",
         "type": "float"
        }
       ],
       "conversionMethod": "pd.DataFrame",
       "ref": "66d0acb2-60ba-4d77-86d2-116604c4761e",
       "rows": [
        [
         "0",
         "N",
         "N",
         "Foto",
         "2869.0",
         "20.5"
        ],
        [
         "1",
         "N",
         "N",
         "Reels",
         "5934.5",
         "98.0"
        ],
        [
         "2",
         "N",
         "N",
         "Vídeo",
         "4007.5",
         "65.25"
        ],
        [
         "3",
         "N",
         "S",
         "Foto",
         "5852.5",
         "47.5"
        ],
        [
         "4",
         "S",
         "N",
         "Foto",
         "10815.285714285714",
         "159.92857142857142"
        ],
        [
         "5",
         "S",
         "N",
         "IGTV",
         "6833.4",
         "133.6"
        ],
        [
         "6",
         "S",
         "N",
         "Reels",
         "12894.0",
         "249.0"
        ],
        [
         "7",
         "S",
         "S",
         "Foto",
         "19105.375",
         "284.1875"
        ],
        [
         "8",
         "S",
         "S",
         "Reels",
         "24801.0",
         "388.5"
        ],
        [
         "9",
         "S",
         "S",
         "Vídeo",
         "16409.5",
         "370.0"
        ]
       ],
       "shape": {
        "columns": 5,
        "rows": 10
       }
      },
      "text/html": [
       "<div>\n",
       "<style scoped>\n",
       "    .dataframe tbody tr th:only-of-type {\n",
       "        vertical-align: middle;\n",
       "    }\n",
       "\n",
       "    .dataframe tbody tr th {\n",
       "        vertical-align: top;\n",
       "    }\n",
       "\n",
       "    .dataframe thead th {\n",
       "        text-align: right;\n",
       "    }\n",
       "</style>\n",
       "<table border=\"1\" class=\"dataframe\">\n",
       "  <thead>\n",
       "    <tr style=\"text-align: right;\">\n",
       "      <th></th>\n",
       "      <th>Pessoas</th>\n",
       "      <th>Campanhas</th>\n",
       "      <th>Tipo</th>\n",
       "      <th>Curtidas</th>\n",
       "      <th>Comentários</th>\n",
       "    </tr>\n",
       "  </thead>\n",
       "  <tbody>\n",
       "    <tr>\n",
       "      <th>0</th>\n",
       "      <td>N</td>\n",
       "      <td>N</td>\n",
       "      <td>Foto</td>\n",
       "      <td>2,869.00</td>\n",
       "      <td>20.50</td>\n",
       "    </tr>\n",
       "    <tr>\n",
       "      <th>1</th>\n",
       "      <td>N</td>\n",
       "      <td>N</td>\n",
       "      <td>Reels</td>\n",
       "      <td>5,934.50</td>\n",
       "      <td>98.00</td>\n",
       "    </tr>\n",
       "    <tr>\n",
       "      <th>2</th>\n",
       "      <td>N</td>\n",
       "      <td>N</td>\n",
       "      <td>Vídeo</td>\n",
       "      <td>4,007.50</td>\n",
       "      <td>65.25</td>\n",
       "    </tr>\n",
       "    <tr>\n",
       "      <th>3</th>\n",
       "      <td>N</td>\n",
       "      <td>S</td>\n",
       "      <td>Foto</td>\n",
       "      <td>5,852.50</td>\n",
       "      <td>47.50</td>\n",
       "    </tr>\n",
       "    <tr>\n",
       "      <th>4</th>\n",
       "      <td>S</td>\n",
       "      <td>N</td>\n",
       "      <td>Foto</td>\n",
       "      <td>10,815.29</td>\n",
       "      <td>159.93</td>\n",
       "    </tr>\n",
       "    <tr>\n",
       "      <th>5</th>\n",
       "      <td>S</td>\n",
       "      <td>N</td>\n",
       "      <td>IGTV</td>\n",
       "      <td>6,833.40</td>\n",
       "      <td>133.60</td>\n",
       "    </tr>\n",
       "    <tr>\n",
       "      <th>6</th>\n",
       "      <td>S</td>\n",
       "      <td>N</td>\n",
       "      <td>Reels</td>\n",
       "      <td>12,894.00</td>\n",
       "      <td>249.00</td>\n",
       "    </tr>\n",
       "    <tr>\n",
       "      <th>7</th>\n",
       "      <td>S</td>\n",
       "      <td>S</td>\n",
       "      <td>Foto</td>\n",
       "      <td>19,105.38</td>\n",
       "      <td>284.19</td>\n",
       "    </tr>\n",
       "    <tr>\n",
       "      <th>8</th>\n",
       "      <td>S</td>\n",
       "      <td>S</td>\n",
       "      <td>Reels</td>\n",
       "      <td>24,801.00</td>\n",
       "      <td>388.50</td>\n",
       "    </tr>\n",
       "    <tr>\n",
       "      <th>9</th>\n",
       "      <td>S</td>\n",
       "      <td>S</td>\n",
       "      <td>Vídeo</td>\n",
       "      <td>16,409.50</td>\n",
       "      <td>370.00</td>\n",
       "    </tr>\n",
       "  </tbody>\n",
       "</table>\n",
       "</div>"
      ],
      "text/plain": [
       "  Pessoas Campanhas   Tipo  Curtidas  Comentários\n",
       "0       N         N   Foto  2,869.00        20.50\n",
       "1       N         N  Reels  5,934.50        98.00\n",
       "2       N         N  Vídeo  4,007.50        65.25\n",
       "3       N         S   Foto  5,852.50        47.50\n",
       "4       S         N   Foto 10,815.29       159.93\n",
       "5       S         N   IGTV  6,833.40       133.60\n",
       "6       S         N  Reels 12,894.00       249.00\n",
       "7       S         S   Foto 19,105.38       284.19\n",
       "8       S         S  Reels 24,801.00       388.50\n",
       "9       S         S  Vídeo 16,409.50       370.00"
      ]
     },
     "execution_count": 37,
     "metadata": {},
     "output_type": "execute_result"
    }
   ],
   "source": [
    "# Agregando por pessoas, campanhas e tipo\n",
    "base.groupby(['Pessoas', 'Campanhas', 'Tipo'])[['Curtidas', 'Comentários']].mean().reset_index()"
   ]
  },
  {
   "cell_type": "markdown",
   "metadata": {},
   "source": [
    "- ANALISANDO NOVAMENTE A QUESTÃO DO VÍDEO, ELE NÃO PARECE MAIS TÃO RUIM ASSIM. QUANDO FEIUTO EM CAMPANHA E USANDO PESSOAS ELE TEVE UM RESULTADO BOM, INCLUSIVE PRÓXIMO A FOTO\n",
    "\n",
    "- O que poderia ter levado a média é que só temos vídeo ou COM pessoa ou COM campanha ou sem nenhum dos dois. Não temos nenhum vídeo com apenas um dos dois (pessoa ou campanha)\n",
    "\n",
    "- Já IGTV, mesmo tendo pessoa, não teve um resultado tão bom"
   ]
  },
  {
   "cell_type": "code",
   "execution_count": 38,
   "metadata": {},
   "outputs": [
    {
     "data": {
      "application/vnd.microsoft.datawrangler.viewer.v0+json": {
       "columns": [
        {
         "name": "index",
         "rawType": "int64",
         "type": "integer"
        },
        {
         "name": "Tipo",
         "rawType": "object",
         "type": "string"
        },
        {
         "name": "Data",
         "rawType": "datetime64[ns]",
         "type": "datetime"
        },
        {
         "name": "Curtidas",
         "rawType": "int64",
         "type": "integer"
        },
        {
         "name": "Comentários",
         "rawType": "int64",
         "type": "integer"
        },
        {
         "name": "Tags",
         "rawType": "object",
         "type": "string"
        },
        {
         "name": "Pessoas",
         "rawType": "object",
         "type": "string"
        },
        {
         "name": "Campanhas",
         "rawType": "object",
         "type": "string"
        },
        {
         "name": "Carrossel",
         "rawType": "object",
         "type": "string"
        },
        {
         "name": "Interacoes ",
         "rawType": "int64",
         "type": "integer"
        }
       ],
       "conversionMethod": "pd.DataFrame",
       "ref": "335e96c8-e7c4-4589-993b-87bd55482116",
       "rows": [
        [
         "3",
         "Vídeo",
         "2021-09-12 00:00:00",
         "5115",
         "49",
         "Produtos",
         "N",
         "N",
         "N",
         "5164"
        ],
        [
         "9",
         "Vídeo",
         "2021-09-28 00:00:00",
         "4056",
         "81",
         "Produtos",
         "N",
         "N",
         "N",
         "4137"
        ],
        [
         "15",
         "Vídeo",
         "2021-11-04 00:00:00",
         "3646",
         "71",
         "Produtos",
         "N",
         "N",
         "N",
         "3717"
        ],
        [
         "17",
         "Vídeo",
         "2021-11-09 00:00:00",
         "3213",
         "60",
         "Produtos",
         "N",
         "N",
         "N",
         "3273"
        ],
        [
         "24",
         "Vídeo",
         "2021-12-30 00:00:00",
         "17600",
         "383",
         "Trends",
         "S",
         "S",
         "N",
         "17983"
        ],
        [
         "37",
         "Vídeo",
         "2022-02-13 00:00:00",
         "15219",
         "357",
         "Datas comemorativas",
         "S",
         "S",
         "N",
         "15576"
        ]
       ],
       "shape": {
        "columns": 9,
        "rows": 6
       }
      },
      "text/html": [
       "<div>\n",
       "<style scoped>\n",
       "    .dataframe tbody tr th:only-of-type {\n",
       "        vertical-align: middle;\n",
       "    }\n",
       "\n",
       "    .dataframe tbody tr th {\n",
       "        vertical-align: top;\n",
       "    }\n",
       "\n",
       "    .dataframe thead th {\n",
       "        text-align: right;\n",
       "    }\n",
       "</style>\n",
       "<table border=\"1\" class=\"dataframe\">\n",
       "  <thead>\n",
       "    <tr style=\"text-align: right;\">\n",
       "      <th></th>\n",
       "      <th>Tipo</th>\n",
       "      <th>Data</th>\n",
       "      <th>Curtidas</th>\n",
       "      <th>Comentários</th>\n",
       "      <th>Tags</th>\n",
       "      <th>Pessoas</th>\n",
       "      <th>Campanhas</th>\n",
       "      <th>Carrossel</th>\n",
       "      <th>Interacoes</th>\n",
       "    </tr>\n",
       "  </thead>\n",
       "  <tbody>\n",
       "    <tr>\n",
       "      <th>3</th>\n",
       "      <td>Vídeo</td>\n",
       "      <td>2021-09-12</td>\n",
       "      <td>5115</td>\n",
       "      <td>49</td>\n",
       "      <td>Produtos</td>\n",
       "      <td>N</td>\n",
       "      <td>N</td>\n",
       "      <td>N</td>\n",
       "      <td>5164</td>\n",
       "    </tr>\n",
       "    <tr>\n",
       "      <th>9</th>\n",
       "      <td>Vídeo</td>\n",
       "      <td>2021-09-28</td>\n",
       "      <td>4056</td>\n",
       "      <td>81</td>\n",
       "      <td>Produtos</td>\n",
       "      <td>N</td>\n",
       "      <td>N</td>\n",
       "      <td>N</td>\n",
       "      <td>4137</td>\n",
       "    </tr>\n",
       "    <tr>\n",
       "      <th>15</th>\n",
       "      <td>Vídeo</td>\n",
       "      <td>2021-11-04</td>\n",
       "      <td>3646</td>\n",
       "      <td>71</td>\n",
       "      <td>Produtos</td>\n",
       "      <td>N</td>\n",
       "      <td>N</td>\n",
       "      <td>N</td>\n",
       "      <td>3717</td>\n",
       "    </tr>\n",
       "    <tr>\n",
       "      <th>17</th>\n",
       "      <td>Vídeo</td>\n",
       "      <td>2021-11-09</td>\n",
       "      <td>3213</td>\n",
       "      <td>60</td>\n",
       "      <td>Produtos</td>\n",
       "      <td>N</td>\n",
       "      <td>N</td>\n",
       "      <td>N</td>\n",
       "      <td>3273</td>\n",
       "    </tr>\n",
       "    <tr>\n",
       "      <th>24</th>\n",
       "      <td>Vídeo</td>\n",
       "      <td>2021-12-30</td>\n",
       "      <td>17600</td>\n",
       "      <td>383</td>\n",
       "      <td>Trends</td>\n",
       "      <td>S</td>\n",
       "      <td>S</td>\n",
       "      <td>N</td>\n",
       "      <td>17983</td>\n",
       "    </tr>\n",
       "    <tr>\n",
       "      <th>37</th>\n",
       "      <td>Vídeo</td>\n",
       "      <td>2022-02-13</td>\n",
       "      <td>15219</td>\n",
       "      <td>357</td>\n",
       "      <td>Datas comemorativas</td>\n",
       "      <td>S</td>\n",
       "      <td>S</td>\n",
       "      <td>N</td>\n",
       "      <td>15576</td>\n",
       "    </tr>\n",
       "  </tbody>\n",
       "</table>\n",
       "</div>"
      ],
      "text/plain": [
       "     Tipo       Data  Curtidas  Comentários                 Tags Pessoas  \\\n",
       "3   Vídeo 2021-09-12      5115           49             Produtos       N   \n",
       "9   Vídeo 2021-09-28      4056           81             Produtos       N   \n",
       "15  Vídeo 2021-11-04      3646           71             Produtos       N   \n",
       "17  Vídeo 2021-11-09      3213           60             Produtos       N   \n",
       "24  Vídeo 2021-12-30     17600          383               Trends       S   \n",
       "37  Vídeo 2022-02-13     15219          357  Datas comemorativas       S   \n",
       "\n",
       "   Campanhas Carrossel  Interacoes   \n",
       "3          N         N         5164  \n",
       "9          N         N         4137  \n",
       "15         N         N         3717  \n",
       "17         N         N         3273  \n",
       "24         S         N        17983  \n",
       "37         S         N        15576  "
      ]
     },
     "execution_count": 38,
     "metadata": {},
     "output_type": "execute_result"
    }
   ],
   "source": [
    "# Podemos entender o que havia gerado a média baixa no vídeo\n",
    "# Filtrar a base apenas onde o tipo é vídeo\n",
    "base[base.Tipo == 'Vídeo']"
   ]
  },
  {
   "cell_type": "markdown",
   "metadata": {},
   "source": [
    "- Aqui percebemos que a loja tentou postar 4 vídeos mostrando seus produtos (sem nenhuma pessoa) e o resultado foi baixo. Quando o vídeo foi feito com pessoas aproveitando trends e data comemorativas o resultado foi muito bom!"
   ]
  },
  {
   "cell_type": "markdown",
   "metadata": {},
   "source": [
    "CONCLUSÕES\n",
    "\n",
    "- Em uma análise inicial, postagens incluindo pessoas engajam muito mais que aquelas que não possui ninguém\n",
    "- Postagens em épocas de campanha também possuem um melhor engajamento\n",
    "- Nessa base, o carrossel não foi um diferencial para melhorar o engajamento da marca"
   ]
  },
  {
   "cell_type": "code",
   "execution_count": 39,
   "metadata": {},
   "outputs": [
    {
     "data": {
      "application/vnd.microsoft.datawrangler.viewer.v0+json": {
       "columns": [
        {
         "name": "Tags",
         "rawType": "object",
         "type": "string"
        },
        {
         "name": "Curtidas",
         "rawType": "float64",
         "type": "float"
        }
       ],
       "conversionMethod": "pd.DataFrame",
       "ref": "ee8f294c-3232-4ffa-8567-333f42dd6a30",
       "rows": [
        [
         "Datas comemorativas",
         "17975.0"
        ],
        [
         "Datas comemorativas/Promoções",
         "29084.0"
        ],
        [
         "Dicas de como usar/Novos Produtos",
         "5703.5"
        ],
        [
         "Dicas de como usar/Produtos",
         "7586.666666666667"
        ],
        [
         "Influenciadores",
         "15197.285714285714"
        ],
        [
         "Loja",
         "2832.5"
        ],
        [
         "Loja/Produtos",
         "2930.0"
        ],
        [
         "Novos Produtos",
         "11619.57142857143"
        ],
        [
         "Produtos",
         "5666.916666666667"
        ],
        [
         "Promoções",
         "26645.5"
        ],
        [
         "Trends",
         "22400.666666666668"
        ],
        [
         "Trends/Produtos",
         "12894.0"
        ]
       ],
       "shape": {
        "columns": 1,
        "rows": 12
       }
      },
      "text/html": [
       "<div>\n",
       "<style scoped>\n",
       "    .dataframe tbody tr th:only-of-type {\n",
       "        vertical-align: middle;\n",
       "    }\n",
       "\n",
       "    .dataframe tbody tr th {\n",
       "        vertical-align: top;\n",
       "    }\n",
       "\n",
       "    .dataframe thead th {\n",
       "        text-align: right;\n",
       "    }\n",
       "</style>\n",
       "<table border=\"1\" class=\"dataframe\">\n",
       "  <thead>\n",
       "    <tr style=\"text-align: right;\">\n",
       "      <th></th>\n",
       "      <th>Curtidas</th>\n",
       "    </tr>\n",
       "    <tr>\n",
       "      <th>Tags</th>\n",
       "      <th></th>\n",
       "    </tr>\n",
       "  </thead>\n",
       "  <tbody>\n",
       "    <tr>\n",
       "      <th>Datas comemorativas</th>\n",
       "      <td>17,975.00</td>\n",
       "    </tr>\n",
       "    <tr>\n",
       "      <th>Datas comemorativas/Promoções</th>\n",
       "      <td>29,084.00</td>\n",
       "    </tr>\n",
       "    <tr>\n",
       "      <th>Dicas de como usar/Novos Produtos</th>\n",
       "      <td>5,703.50</td>\n",
       "    </tr>\n",
       "    <tr>\n",
       "      <th>Dicas de como usar/Produtos</th>\n",
       "      <td>7,586.67</td>\n",
       "    </tr>\n",
       "    <tr>\n",
       "      <th>Influenciadores</th>\n",
       "      <td>15,197.29</td>\n",
       "    </tr>\n",
       "    <tr>\n",
       "      <th>Loja</th>\n",
       "      <td>2,832.50</td>\n",
       "    </tr>\n",
       "    <tr>\n",
       "      <th>Loja/Produtos</th>\n",
       "      <td>2,930.00</td>\n",
       "    </tr>\n",
       "    <tr>\n",
       "      <th>Novos Produtos</th>\n",
       "      <td>11,619.57</td>\n",
       "    </tr>\n",
       "    <tr>\n",
       "      <th>Produtos</th>\n",
       "      <td>5,666.92</td>\n",
       "    </tr>\n",
       "    <tr>\n",
       "      <th>Promoções</th>\n",
       "      <td>26,645.50</td>\n",
       "    </tr>\n",
       "    <tr>\n",
       "      <th>Trends</th>\n",
       "      <td>22,400.67</td>\n",
       "    </tr>\n",
       "    <tr>\n",
       "      <th>Trends/Produtos</th>\n",
       "      <td>12,894.00</td>\n",
       "    </tr>\n",
       "  </tbody>\n",
       "</table>\n",
       "</div>"
      ],
      "text/plain": [
       "                                   Curtidas\n",
       "Tags                                       \n",
       "Datas comemorativas               17,975.00\n",
       "Datas comemorativas/Promoções     29,084.00\n",
       "Dicas de como usar/Novos Produtos  5,703.50\n",
       "Dicas de como usar/Produtos        7,586.67\n",
       "Influenciadores                   15,197.29\n",
       "Loja                               2,832.50\n",
       "Loja/Produtos                      2,930.00\n",
       "Novos Produtos                    11,619.57\n",
       "Produtos                           5,666.92\n",
       "Promoções                         26,645.50\n",
       "Trends                            22,400.67\n",
       "Trends/Produtos                   12,894.00"
      ]
     },
     "execution_count": 39,
     "metadata": {},
     "output_type": "execute_result"
    }
   ],
   "source": [
    "# Agrupando por Tags\n",
    "base.groupby('Tags')[['Curtidas']].mean()"
   ]
  },
  {
   "cell_type": "code",
   "execution_count": 40,
   "metadata": {},
   "outputs": [
    {
     "data": {
      "application/vnd.microsoft.datawrangler.viewer.v0+json": {
       "columns": [
        {
         "name": "index",
         "rawType": "int64",
         "type": "integer"
        },
        {
         "name": "Tipo",
         "rawType": "object",
         "type": "string"
        },
        {
         "name": "Data",
         "rawType": "datetime64[ns]",
         "type": "datetime"
        },
        {
         "name": "Curtidas",
         "rawType": "int64",
         "type": "integer"
        },
        {
         "name": "Comentários",
         "rawType": "int64",
         "type": "integer"
        },
        {
         "name": "Tags",
         "rawType": "object",
         "type": "unknown"
        },
        {
         "name": "Pessoas",
         "rawType": "object",
         "type": "string"
        },
        {
         "name": "Campanhas",
         "rawType": "object",
         "type": "string"
        },
        {
         "name": "Carrossel",
         "rawType": "object",
         "type": "string"
        },
        {
         "name": "Interacoes ",
         "rawType": "int64",
         "type": "integer"
        }
       ],
       "conversionMethod": "pd.DataFrame",
       "ref": "f565eaf1-bf3d-4930-9c11-d4a814043191",
       "rows": [
        [
         "0",
         "Foto",
         "2021-09-11 00:00:00",
         "2858",
         "16",
         "['Loja']",
         "N",
         "N",
         "N",
         "2874"
        ],
        [
         "1",
         "Foto",
         "2021-09-11 00:00:00",
         "2930",
         "28",
         "['Loja', 'Produtos']",
         "N",
         "N",
         "N",
         "2958"
        ],
        [
         "2",
         "Foto",
         "2021-09-11 00:00:00",
         "2807",
         "9",
         "['Loja']",
         "N",
         "N",
         "N",
         "2816"
        ],
        [
         "3",
         "Vídeo",
         "2021-09-12 00:00:00",
         "5115",
         "49",
         "['Produtos']",
         "N",
         "N",
         "N",
         "5164"
        ],
        [
         "4",
         "Foto",
         "2021-09-13 00:00:00",
         "4392",
         "45",
         "['Produtos']",
         "S",
         "N",
         "N",
         "4437"
        ]
       ],
       "shape": {
        "columns": 9,
        "rows": 5
       }
      },
      "text/html": [
       "<div>\n",
       "<style scoped>\n",
       "    .dataframe tbody tr th:only-of-type {\n",
       "        vertical-align: middle;\n",
       "    }\n",
       "\n",
       "    .dataframe tbody tr th {\n",
       "        vertical-align: top;\n",
       "    }\n",
       "\n",
       "    .dataframe thead th {\n",
       "        text-align: right;\n",
       "    }\n",
       "</style>\n",
       "<table border=\"1\" class=\"dataframe\">\n",
       "  <thead>\n",
       "    <tr style=\"text-align: right;\">\n",
       "      <th></th>\n",
       "      <th>Tipo</th>\n",
       "      <th>Data</th>\n",
       "      <th>Curtidas</th>\n",
       "      <th>Comentários</th>\n",
       "      <th>Tags</th>\n",
       "      <th>Pessoas</th>\n",
       "      <th>Campanhas</th>\n",
       "      <th>Carrossel</th>\n",
       "      <th>Interacoes</th>\n",
       "    </tr>\n",
       "  </thead>\n",
       "  <tbody>\n",
       "    <tr>\n",
       "      <th>0</th>\n",
       "      <td>Foto</td>\n",
       "      <td>2021-09-11</td>\n",
       "      <td>2858</td>\n",
       "      <td>16</td>\n",
       "      <td>[Loja]</td>\n",
       "      <td>N</td>\n",
       "      <td>N</td>\n",
       "      <td>N</td>\n",
       "      <td>2874</td>\n",
       "    </tr>\n",
       "    <tr>\n",
       "      <th>1</th>\n",
       "      <td>Foto</td>\n",
       "      <td>2021-09-11</td>\n",
       "      <td>2930</td>\n",
       "      <td>28</td>\n",
       "      <td>[Loja, Produtos]</td>\n",
       "      <td>N</td>\n",
       "      <td>N</td>\n",
       "      <td>N</td>\n",
       "      <td>2958</td>\n",
       "    </tr>\n",
       "    <tr>\n",
       "      <th>2</th>\n",
       "      <td>Foto</td>\n",
       "      <td>2021-09-11</td>\n",
       "      <td>2807</td>\n",
       "      <td>9</td>\n",
       "      <td>[Loja]</td>\n",
       "      <td>N</td>\n",
       "      <td>N</td>\n",
       "      <td>N</td>\n",
       "      <td>2816</td>\n",
       "    </tr>\n",
       "    <tr>\n",
       "      <th>3</th>\n",
       "      <td>Vídeo</td>\n",
       "      <td>2021-09-12</td>\n",
       "      <td>5115</td>\n",
       "      <td>49</td>\n",
       "      <td>[Produtos]</td>\n",
       "      <td>N</td>\n",
       "      <td>N</td>\n",
       "      <td>N</td>\n",
       "      <td>5164</td>\n",
       "    </tr>\n",
       "    <tr>\n",
       "      <th>4</th>\n",
       "      <td>Foto</td>\n",
       "      <td>2021-09-13</td>\n",
       "      <td>4392</td>\n",
       "      <td>45</td>\n",
       "      <td>[Produtos]</td>\n",
       "      <td>S</td>\n",
       "      <td>N</td>\n",
       "      <td>N</td>\n",
       "      <td>4437</td>\n",
       "    </tr>\n",
       "  </tbody>\n",
       "</table>\n",
       "</div>"
      ],
      "text/plain": [
       "    Tipo       Data  Curtidas  Comentários              Tags Pessoas  \\\n",
       "0   Foto 2021-09-11      2858           16            [Loja]       N   \n",
       "1   Foto 2021-09-11      2930           28  [Loja, Produtos]       N   \n",
       "2   Foto 2021-09-11      2807            9            [Loja]       N   \n",
       "3  Vídeo 2021-09-12      5115           49        [Produtos]       N   \n",
       "4   Foto 2021-09-13      4392           45        [Produtos]       S   \n",
       "\n",
       "  Campanhas Carrossel  Interacoes   \n",
       "0         N         N         2874  \n",
       "1         N         N         2958  \n",
       "2         N         N         2816  \n",
       "3         N         N         5164  \n",
       "4         N         N         4437  "
      ]
     },
     "execution_count": 40,
     "metadata": {},
     "output_type": "execute_result"
    }
   ],
   "source": [
    "# Separar tags dividindo linhas 2 tags em 2 linhas\n",
    "base.Tags = base.Tags.str.split('/')\n",
    "base.head()"
   ]
  },
  {
   "cell_type": "code",
   "execution_count": 41,
   "metadata": {},
   "outputs": [
    {
     "data": {
      "application/vnd.microsoft.datawrangler.viewer.v0+json": {
       "columns": [
        {
         "name": "index",
         "rawType": "int64",
         "type": "integer"
        },
        {
         "name": "Tipo",
         "rawType": "object",
         "type": "string"
        },
        {
         "name": "Data",
         "rawType": "datetime64[ns]",
         "type": "datetime"
        },
        {
         "name": "Curtidas",
         "rawType": "int64",
         "type": "integer"
        },
        {
         "name": "Comentários",
         "rawType": "int64",
         "type": "integer"
        },
        {
         "name": "Tags",
         "rawType": "object",
         "type": "string"
        },
        {
         "name": "Pessoas",
         "rawType": "object",
         "type": "string"
        },
        {
         "name": "Campanhas",
         "rawType": "object",
         "type": "string"
        },
        {
         "name": "Carrossel",
         "rawType": "object",
         "type": "string"
        },
        {
         "name": "Interacoes ",
         "rawType": "int64",
         "type": "integer"
        }
       ],
       "conversionMethod": "pd.DataFrame",
       "ref": "d58c7d01-040f-4795-ae89-30b13da56c00",
       "rows": [
        [
         "0",
         "Foto",
         "2021-09-11 00:00:00",
         "2858",
         "16",
         "Loja",
         "N",
         "N",
         "N",
         "2874"
        ],
        [
         "1",
         "Foto",
         "2021-09-11 00:00:00",
         "2930",
         "28",
         "Loja",
         "N",
         "N",
         "N",
         "2958"
        ],
        [
         "1",
         "Foto",
         "2021-09-11 00:00:00",
         "2930",
         "28",
         "Produtos",
         "N",
         "N",
         "N",
         "2958"
        ],
        [
         "2",
         "Foto",
         "2021-09-11 00:00:00",
         "2807",
         "9",
         "Loja",
         "N",
         "N",
         "N",
         "2816"
        ],
        [
         "3",
         "Vídeo",
         "2021-09-12 00:00:00",
         "5115",
         "49",
         "Produtos",
         "N",
         "N",
         "N",
         "5164"
        ]
       ],
       "shape": {
        "columns": 9,
        "rows": 5
       }
      },
      "text/html": [
       "<div>\n",
       "<style scoped>\n",
       "    .dataframe tbody tr th:only-of-type {\n",
       "        vertical-align: middle;\n",
       "    }\n",
       "\n",
       "    .dataframe tbody tr th {\n",
       "        vertical-align: top;\n",
       "    }\n",
       "\n",
       "    .dataframe thead th {\n",
       "        text-align: right;\n",
       "    }\n",
       "</style>\n",
       "<table border=\"1\" class=\"dataframe\">\n",
       "  <thead>\n",
       "    <tr style=\"text-align: right;\">\n",
       "      <th></th>\n",
       "      <th>Tipo</th>\n",
       "      <th>Data</th>\n",
       "      <th>Curtidas</th>\n",
       "      <th>Comentários</th>\n",
       "      <th>Tags</th>\n",
       "      <th>Pessoas</th>\n",
       "      <th>Campanhas</th>\n",
       "      <th>Carrossel</th>\n",
       "      <th>Interacoes</th>\n",
       "    </tr>\n",
       "  </thead>\n",
       "  <tbody>\n",
       "    <tr>\n",
       "      <th>0</th>\n",
       "      <td>Foto</td>\n",
       "      <td>2021-09-11</td>\n",
       "      <td>2858</td>\n",
       "      <td>16</td>\n",
       "      <td>Loja</td>\n",
       "      <td>N</td>\n",
       "      <td>N</td>\n",
       "      <td>N</td>\n",
       "      <td>2874</td>\n",
       "    </tr>\n",
       "    <tr>\n",
       "      <th>1</th>\n",
       "      <td>Foto</td>\n",
       "      <td>2021-09-11</td>\n",
       "      <td>2930</td>\n",
       "      <td>28</td>\n",
       "      <td>Loja</td>\n",
       "      <td>N</td>\n",
       "      <td>N</td>\n",
       "      <td>N</td>\n",
       "      <td>2958</td>\n",
       "    </tr>\n",
       "    <tr>\n",
       "      <th>1</th>\n",
       "      <td>Foto</td>\n",
       "      <td>2021-09-11</td>\n",
       "      <td>2930</td>\n",
       "      <td>28</td>\n",
       "      <td>Produtos</td>\n",
       "      <td>N</td>\n",
       "      <td>N</td>\n",
       "      <td>N</td>\n",
       "      <td>2958</td>\n",
       "    </tr>\n",
       "    <tr>\n",
       "      <th>2</th>\n",
       "      <td>Foto</td>\n",
       "      <td>2021-09-11</td>\n",
       "      <td>2807</td>\n",
       "      <td>9</td>\n",
       "      <td>Loja</td>\n",
       "      <td>N</td>\n",
       "      <td>N</td>\n",
       "      <td>N</td>\n",
       "      <td>2816</td>\n",
       "    </tr>\n",
       "    <tr>\n",
       "      <th>3</th>\n",
       "      <td>Vídeo</td>\n",
       "      <td>2021-09-12</td>\n",
       "      <td>5115</td>\n",
       "      <td>49</td>\n",
       "      <td>Produtos</td>\n",
       "      <td>N</td>\n",
       "      <td>N</td>\n",
       "      <td>N</td>\n",
       "      <td>5164</td>\n",
       "    </tr>\n",
       "  </tbody>\n",
       "</table>\n",
       "</div>"
      ],
      "text/plain": [
       "    Tipo       Data  Curtidas  Comentários      Tags Pessoas Campanhas  \\\n",
       "0   Foto 2021-09-11      2858           16      Loja       N         N   \n",
       "1   Foto 2021-09-11      2930           28      Loja       N         N   \n",
       "1   Foto 2021-09-11      2930           28  Produtos       N         N   \n",
       "2   Foto 2021-09-11      2807            9      Loja       N         N   \n",
       "3  Vídeo 2021-09-12      5115           49  Produtos       N         N   \n",
       "\n",
       "  Carrossel  Interacoes   \n",
       "0         N         2874  \n",
       "1         N         2958  \n",
       "1         N         2958  \n",
       "2         N         2816  \n",
       "3         N         5164  "
      ]
     },
     "execution_count": 41,
     "metadata": {},
     "output_type": "execute_result"
    }
   ],
   "source": [
    "# Explode para separar coluna\n",
    "base = base.explode('Tags')\n",
    "base.head()"
   ]
  },
  {
   "cell_type": "code",
   "execution_count": 42,
   "metadata": {},
   "outputs": [
    {
     "data": {
      "application/vnd.microsoft.datawrangler.viewer.v0+json": {
       "columns": [
        {
         "name": "Pessoas",
         "rawType": "object",
         "type": "string"
        },
        {
         "name": "Curtidas",
         "rawType": "float64",
         "type": "float"
        }
       ],
       "conversionMethod": "pd.DataFrame",
       "ref": "01b53a0f-01ff-4c09-82f9-d2d1de4363b4",
       "rows": [
        [
         "N",
         "4154.615384615385"
        ],
        [
         "S",
         "14100.574468085106"
        ]
       ],
       "shape": {
        "columns": 1,
        "rows": 2
       }
      },
      "text/html": [
       "<div>\n",
       "<style scoped>\n",
       "    .dataframe tbody tr th:only-of-type {\n",
       "        vertical-align: middle;\n",
       "    }\n",
       "\n",
       "    .dataframe tbody tr th {\n",
       "        vertical-align: top;\n",
       "    }\n",
       "\n",
       "    .dataframe thead th {\n",
       "        text-align: right;\n",
       "    }\n",
       "</style>\n",
       "<table border=\"1\" class=\"dataframe\">\n",
       "  <thead>\n",
       "    <tr style=\"text-align: right;\">\n",
       "      <th></th>\n",
       "      <th>Curtidas</th>\n",
       "    </tr>\n",
       "    <tr>\n",
       "      <th>Pessoas</th>\n",
       "      <th></th>\n",
       "    </tr>\n",
       "  </thead>\n",
       "  <tbody>\n",
       "    <tr>\n",
       "      <th>N</th>\n",
       "      <td>4,154.62</td>\n",
       "    </tr>\n",
       "    <tr>\n",
       "      <th>S</th>\n",
       "      <td>14,100.57</td>\n",
       "    </tr>\n",
       "  </tbody>\n",
       "</table>\n",
       "</div>"
      ],
      "text/plain": [
       "         Curtidas\n",
       "Pessoas          \n",
       "N        4,154.62\n",
       "S       14,100.57"
      ]
     },
     "execution_count": 42,
     "metadata": {},
     "output_type": "execute_result"
    }
   ],
   "source": [
    "# Repetindo a média de curtidas para pessoas\n",
    "base.groupby('Pessoas')[['Curtidas']].mean() "
   ]
  },
  {
   "cell_type": "code",
   "execution_count": 43,
   "metadata": {},
   "outputs": [
    {
     "data": {
      "application/vnd.microsoft.datawrangler.viewer.v0+json": {
       "columns": [
        {
         "name": "Tags",
         "rawType": "object",
         "type": "string"
        },
        {
         "name": "Curtidas",
         "rawType": "float64",
         "type": "float"
        }
       ],
       "conversionMethod": "pd.DataFrame",
       "ref": "6b815d28-c360-4630-824c-58f3fcdf9fbe",
       "rows": [
        [
         "Datas comemorativas",
         "20752.25"
        ],
        [
         "Dicas de como usar",
         "6833.4"
        ],
        [
         "Influenciadores",
         "15197.285714285714"
        ],
        [
         "Loja",
         "2865.0"
        ],
        [
         "Novos Produtos",
         "10304.888888888889"
        ],
        [
         "Produtos",
         "6269.823529411765"
        ],
        [
         "Promoções",
         "27458.333333333332"
        ],
        [
         "Trends",
         "20024.0"
        ]
       ],
       "shape": {
        "columns": 1,
        "rows": 8
       }
      },
      "text/html": [
       "<div>\n",
       "<style scoped>\n",
       "    .dataframe tbody tr th:only-of-type {\n",
       "        vertical-align: middle;\n",
       "    }\n",
       "\n",
       "    .dataframe tbody tr th {\n",
       "        vertical-align: top;\n",
       "    }\n",
       "\n",
       "    .dataframe thead th {\n",
       "        text-align: right;\n",
       "    }\n",
       "</style>\n",
       "<table border=\"1\" class=\"dataframe\">\n",
       "  <thead>\n",
       "    <tr style=\"text-align: right;\">\n",
       "      <th></th>\n",
       "      <th>Curtidas</th>\n",
       "    </tr>\n",
       "    <tr>\n",
       "      <th>Tags</th>\n",
       "      <th></th>\n",
       "    </tr>\n",
       "  </thead>\n",
       "  <tbody>\n",
       "    <tr>\n",
       "      <th>Datas comemorativas</th>\n",
       "      <td>20,752.25</td>\n",
       "    </tr>\n",
       "    <tr>\n",
       "      <th>Dicas de como usar</th>\n",
       "      <td>6,833.40</td>\n",
       "    </tr>\n",
       "    <tr>\n",
       "      <th>Influenciadores</th>\n",
       "      <td>15,197.29</td>\n",
       "    </tr>\n",
       "    <tr>\n",
       "      <th>Loja</th>\n",
       "      <td>2,865.00</td>\n",
       "    </tr>\n",
       "    <tr>\n",
       "      <th>Novos Produtos</th>\n",
       "      <td>10,304.89</td>\n",
       "    </tr>\n",
       "    <tr>\n",
       "      <th>Produtos</th>\n",
       "      <td>6,269.82</td>\n",
       "    </tr>\n",
       "    <tr>\n",
       "      <th>Promoções</th>\n",
       "      <td>27,458.33</td>\n",
       "    </tr>\n",
       "    <tr>\n",
       "      <th>Trends</th>\n",
       "      <td>20,024.00</td>\n",
       "    </tr>\n",
       "  </tbody>\n",
       "</table>\n",
       "</div>"
      ],
      "text/plain": [
       "                     Curtidas\n",
       "Tags                         \n",
       "Datas comemorativas 20,752.25\n",
       "Dicas de como usar   6,833.40\n",
       "Influenciadores     15,197.29\n",
       "Loja                 2,865.00\n",
       "Novos Produtos      10,304.89\n",
       "Produtos             6,269.82\n",
       "Promoções           27,458.33\n",
       "Trends              20,024.00"
      ]
     },
     "execution_count": 43,
     "metadata": {},
     "output_type": "execute_result"
    }
   ],
   "source": [
    "# Média de curtidas por tags\n",
    "base.groupby('Tags')[['Curtidas']].mean()"
   ]
  },
  {
   "cell_type": "code",
   "execution_count": 44,
   "metadata": {},
   "outputs": [
    {
     "data": {
      "application/vnd.microsoft.datawrangler.viewer.v0+json": {
       "columns": [
        {
         "name": "Tags",
         "rawType": "object",
         "type": "string"
        },
        {
         "name": "Curtidas",
         "rawType": "float64",
         "type": "float"
        }
       ],
       "conversionMethod": "pd.DataFrame",
       "ref": "bc43293e-fa22-424d-a279-f818e0f4622c",
       "rows": [
        [
         "Promoções",
         "27458.333333333332"
        ],
        [
         "Datas comemorativas",
         "20752.25"
        ],
        [
         "Trends",
         "20024.0"
        ],
        [
         "Influenciadores",
         "15197.285714285714"
        ],
        [
         "Novos Produtos",
         "10304.888888888889"
        ],
        [
         "Dicas de como usar",
         "6833.4"
        ],
        [
         "Produtos",
         "6269.823529411765"
        ],
        [
         "Loja",
         "2865.0"
        ]
       ],
       "shape": {
        "columns": 1,
        "rows": 8
       }
      },
      "text/html": [
       "<div>\n",
       "<style scoped>\n",
       "    .dataframe tbody tr th:only-of-type {\n",
       "        vertical-align: middle;\n",
       "    }\n",
       "\n",
       "    .dataframe tbody tr th {\n",
       "        vertical-align: top;\n",
       "    }\n",
       "\n",
       "    .dataframe thead th {\n",
       "        text-align: right;\n",
       "    }\n",
       "</style>\n",
       "<table border=\"1\" class=\"dataframe\">\n",
       "  <thead>\n",
       "    <tr style=\"text-align: right;\">\n",
       "      <th></th>\n",
       "      <th>Curtidas</th>\n",
       "    </tr>\n",
       "    <tr>\n",
       "      <th>Tags</th>\n",
       "      <th></th>\n",
       "    </tr>\n",
       "  </thead>\n",
       "  <tbody>\n",
       "    <tr>\n",
       "      <th>Promoções</th>\n",
       "      <td>27,458.33</td>\n",
       "    </tr>\n",
       "    <tr>\n",
       "      <th>Datas comemorativas</th>\n",
       "      <td>20,752.25</td>\n",
       "    </tr>\n",
       "    <tr>\n",
       "      <th>Trends</th>\n",
       "      <td>20,024.00</td>\n",
       "    </tr>\n",
       "    <tr>\n",
       "      <th>Influenciadores</th>\n",
       "      <td>15,197.29</td>\n",
       "    </tr>\n",
       "    <tr>\n",
       "      <th>Novos Produtos</th>\n",
       "      <td>10,304.89</td>\n",
       "    </tr>\n",
       "    <tr>\n",
       "      <th>Dicas de como usar</th>\n",
       "      <td>6,833.40</td>\n",
       "    </tr>\n",
       "    <tr>\n",
       "      <th>Produtos</th>\n",
       "      <td>6,269.82</td>\n",
       "    </tr>\n",
       "    <tr>\n",
       "      <th>Loja</th>\n",
       "      <td>2,865.00</td>\n",
       "    </tr>\n",
       "  </tbody>\n",
       "</table>\n",
       "</div>"
      ],
      "text/plain": [
       "                     Curtidas\n",
       "Tags                         \n",
       "Promoções           27,458.33\n",
       "Datas comemorativas 20,752.25\n",
       "Trends              20,024.00\n",
       "Influenciadores     15,197.29\n",
       "Novos Produtos      10,304.89\n",
       "Dicas de como usar   6,833.40\n",
       "Produtos             6,269.82\n",
       "Loja                 2,865.00"
      ]
     },
     "execution_count": 44,
     "metadata": {},
     "output_type": "execute_result"
    }
   ],
   "source": [
    "# Ordenando por curtidas\n",
    "base.groupby('Tags')[['Curtidas']].mean().sort_values('Curtidas', ascending=False) # .sort_values('Coluna', ascending=False) para ordenar"
   ]
  },
  {
   "cell_type": "markdown",
   "metadata": {},
   "source": [
    "- Postagens de promoções são as que mais engajam\n",
    "- Além de promoções, datas comemorativas e trends também possuem um bom engajamento"
   ]
  },
  {
   "cell_type": "code",
   "execution_count": 45,
   "metadata": {},
   "outputs": [
    {
     "data": {
      "application/vnd.microsoft.datawrangler.viewer.v0+json": {
       "columns": [
        {
         "name": "index",
         "rawType": "int64",
         "type": "integer"
        },
        {
         "name": "Tipo",
         "rawType": "object",
         "type": "string"
        },
        {
         "name": "Data",
         "rawType": "datetime64[ns]",
         "type": "datetime"
        },
        {
         "name": "Curtidas",
         "rawType": "int64",
         "type": "integer"
        },
        {
         "name": "Comentários",
         "rawType": "int64",
         "type": "integer"
        },
        {
         "name": "Tags",
         "rawType": "object",
         "type": "unknown"
        },
        {
         "name": "Pessoas",
         "rawType": "object",
         "type": "string"
        },
        {
         "name": "Campanhas",
         "rawType": "object",
         "type": "string"
        },
        {
         "name": "Carrossel",
         "rawType": "object",
         "type": "string"
        },
        {
         "name": "Interacoes ",
         "rawType": "int64",
         "type": "integer"
        }
       ],
       "conversionMethod": "pd.DataFrame",
       "ref": "15ce1fb8-e7fb-4ff2-bae6-617517ca45b0",
       "rows": [
        [
         "11",
         "Foto",
         "2021-10-12 00:00:00",
         "17831",
         "391",
         null,
         "S",
         "S",
         "N",
         "18222"
        ],
        [
         "19",
         "Foto",
         "2021-12-12 00:00:00",
         "16086",
         "268",
         null,
         "S",
         "S",
         "N",
         "16354"
        ],
        [
         "29",
         "Foto",
         "2022-01-19 00:00:00",
         "8612",
         "142",
         null,
         "S",
         "N",
         "N",
         "8754"
        ],
        [
         "38",
         "Foto",
         "2022-02-15 00:00:00",
         "17687",
         "213",
         null,
         "S",
         "N",
         "N",
         "17900"
        ],
        [
         "41",
         "Foto",
         "2022-02-22 00:00:00",
         "12530",
         "90",
         null,
         "S",
         "N",
         "N",
         "12620"
        ],
        [
         "43",
         "Foto",
         "2022-03-04 00:00:00",
         "24399",
         "266",
         null,
         "S",
         "S",
         "N",
         "24665"
        ],
        [
         "49",
         "Foto",
         "2022-03-22 00:00:00",
         "9087",
         "106",
         null,
         "S",
         "S",
         "N",
         "9193"
        ],
        [
         "50",
         "Foto",
         "2022-03-26 00:00:00",
         "16551",
         "186",
         null,
         "S",
         "N",
         "N",
         "16737"
        ]
       ],
       "shape": {
        "columns": 9,
        "rows": 8
       }
      },
      "text/html": [
       "<div>\n",
       "<style scoped>\n",
       "    .dataframe tbody tr th:only-of-type {\n",
       "        vertical-align: middle;\n",
       "    }\n",
       "\n",
       "    .dataframe tbody tr th {\n",
       "        vertical-align: top;\n",
       "    }\n",
       "\n",
       "    .dataframe thead th {\n",
       "        text-align: right;\n",
       "    }\n",
       "</style>\n",
       "<table border=\"1\" class=\"dataframe\">\n",
       "  <thead>\n",
       "    <tr style=\"text-align: right;\">\n",
       "      <th></th>\n",
       "      <th>Tipo</th>\n",
       "      <th>Data</th>\n",
       "      <th>Curtidas</th>\n",
       "      <th>Comentários</th>\n",
       "      <th>Tags</th>\n",
       "      <th>Pessoas</th>\n",
       "      <th>Campanhas</th>\n",
       "      <th>Carrossel</th>\n",
       "      <th>Interacoes</th>\n",
       "    </tr>\n",
       "  </thead>\n",
       "  <tbody>\n",
       "    <tr>\n",
       "      <th>11</th>\n",
       "      <td>Foto</td>\n",
       "      <td>2021-10-12</td>\n",
       "      <td>17831</td>\n",
       "      <td>391</td>\n",
       "      <td>NaN</td>\n",
       "      <td>S</td>\n",
       "      <td>S</td>\n",
       "      <td>N</td>\n",
       "      <td>18222</td>\n",
       "    </tr>\n",
       "    <tr>\n",
       "      <th>19</th>\n",
       "      <td>Foto</td>\n",
       "      <td>2021-12-12</td>\n",
       "      <td>16086</td>\n",
       "      <td>268</td>\n",
       "      <td>NaN</td>\n",
       "      <td>S</td>\n",
       "      <td>S</td>\n",
       "      <td>N</td>\n",
       "      <td>16354</td>\n",
       "    </tr>\n",
       "    <tr>\n",
       "      <th>29</th>\n",
       "      <td>Foto</td>\n",
       "      <td>2022-01-19</td>\n",
       "      <td>8612</td>\n",
       "      <td>142</td>\n",
       "      <td>NaN</td>\n",
       "      <td>S</td>\n",
       "      <td>N</td>\n",
       "      <td>N</td>\n",
       "      <td>8754</td>\n",
       "    </tr>\n",
       "    <tr>\n",
       "      <th>38</th>\n",
       "      <td>Foto</td>\n",
       "      <td>2022-02-15</td>\n",
       "      <td>17687</td>\n",
       "      <td>213</td>\n",
       "      <td>NaN</td>\n",
       "      <td>S</td>\n",
       "      <td>N</td>\n",
       "      <td>N</td>\n",
       "      <td>17900</td>\n",
       "    </tr>\n",
       "    <tr>\n",
       "      <th>41</th>\n",
       "      <td>Foto</td>\n",
       "      <td>2022-02-22</td>\n",
       "      <td>12530</td>\n",
       "      <td>90</td>\n",
       "      <td>NaN</td>\n",
       "      <td>S</td>\n",
       "      <td>N</td>\n",
       "      <td>N</td>\n",
       "      <td>12620</td>\n",
       "    </tr>\n",
       "    <tr>\n",
       "      <th>43</th>\n",
       "      <td>Foto</td>\n",
       "      <td>2022-03-04</td>\n",
       "      <td>24399</td>\n",
       "      <td>266</td>\n",
       "      <td>NaN</td>\n",
       "      <td>S</td>\n",
       "      <td>S</td>\n",
       "      <td>N</td>\n",
       "      <td>24665</td>\n",
       "    </tr>\n",
       "    <tr>\n",
       "      <th>49</th>\n",
       "      <td>Foto</td>\n",
       "      <td>2022-03-22</td>\n",
       "      <td>9087</td>\n",
       "      <td>106</td>\n",
       "      <td>NaN</td>\n",
       "      <td>S</td>\n",
       "      <td>S</td>\n",
       "      <td>N</td>\n",
       "      <td>9193</td>\n",
       "    </tr>\n",
       "    <tr>\n",
       "      <th>50</th>\n",
       "      <td>Foto</td>\n",
       "      <td>2022-03-26</td>\n",
       "      <td>16551</td>\n",
       "      <td>186</td>\n",
       "      <td>NaN</td>\n",
       "      <td>S</td>\n",
       "      <td>N</td>\n",
       "      <td>N</td>\n",
       "      <td>16737</td>\n",
       "    </tr>\n",
       "  </tbody>\n",
       "</table>\n",
       "</div>"
      ],
      "text/plain": [
       "    Tipo       Data  Curtidas  Comentários Tags Pessoas Campanhas Carrossel  \\\n",
       "11  Foto 2021-10-12     17831          391  NaN       S         S         N   \n",
       "19  Foto 2021-12-12     16086          268  NaN       S         S         N   \n",
       "29  Foto 2022-01-19      8612          142  NaN       S         N         N   \n",
       "38  Foto 2022-02-15     17687          213  NaN       S         N         N   \n",
       "41  Foto 2022-02-22     12530           90  NaN       S         N         N   \n",
       "43  Foto 2022-03-04     24399          266  NaN       S         S         N   \n",
       "49  Foto 2022-03-22      9087          106  NaN       S         S         N   \n",
       "50  Foto 2022-03-26     16551          186  NaN       S         N         N   \n",
       "\n",
       "    Interacoes   \n",
       "11        18222  \n",
       "19        16354  \n",
       "29         8754  \n",
       "38        17900  \n",
       "41        12620  \n",
       "43        24665  \n",
       "49         9193  \n",
       "50        16737  "
      ]
     },
     "execution_count": 45,
     "metadata": {},
     "output_type": "execute_result"
    }
   ],
   "source": [
    "# Filtrando valores sem tag\n",
    "base[base.Tags.isnull()]"
   ]
  },
  {
   "cell_type": "code",
   "execution_count": 46,
   "metadata": {},
   "outputs": [],
   "source": [
    "# Atribuindo o texto sem tag para as colunsa onde a tag é NaN\n",
    "base.loc[base.Tags.isnull(), 'Tags'] = 'Sem tag'"
   ]
  },
  {
   "cell_type": "code",
   "execution_count": 47,
   "metadata": {},
   "outputs": [
    {
     "data": {
      "application/vnd.microsoft.datawrangler.viewer.v0+json": {
       "columns": [
        {
         "name": "Tags",
         "rawType": "object",
         "type": "string"
        },
        {
         "name": "Curtidas",
         "rawType": "float64",
         "type": "float"
        }
       ],
       "conversionMethod": "pd.DataFrame",
       "ref": "377197c8-bf65-4dad-85bd-89f34ff66c12",
       "rows": [
        [
         "Promoções",
         "27458.333333333332"
        ],
        [
         "Datas comemorativas",
         "20752.25"
        ],
        [
         "Trends",
         "20024.0"
        ],
        [
         "Sem tag",
         "15347.875"
        ],
        [
         "Influenciadores",
         "15197.285714285714"
        ],
        [
         "Novos Produtos",
         "10304.888888888889"
        ],
        [
         "Dicas de como usar",
         "6833.4"
        ],
        [
         "Produtos",
         "6269.823529411765"
        ],
        [
         "Loja",
         "2865.0"
        ]
       ],
       "shape": {
        "columns": 1,
        "rows": 9
       }
      },
      "text/html": [
       "<div>\n",
       "<style scoped>\n",
       "    .dataframe tbody tr th:only-of-type {\n",
       "        vertical-align: middle;\n",
       "    }\n",
       "\n",
       "    .dataframe tbody tr th {\n",
       "        vertical-align: top;\n",
       "    }\n",
       "\n",
       "    .dataframe thead th {\n",
       "        text-align: right;\n",
       "    }\n",
       "</style>\n",
       "<table border=\"1\" class=\"dataframe\">\n",
       "  <thead>\n",
       "    <tr style=\"text-align: right;\">\n",
       "      <th></th>\n",
       "      <th>Curtidas</th>\n",
       "    </tr>\n",
       "    <tr>\n",
       "      <th>Tags</th>\n",
       "      <th></th>\n",
       "    </tr>\n",
       "  </thead>\n",
       "  <tbody>\n",
       "    <tr>\n",
       "      <th>Promoções</th>\n",
       "      <td>27,458.33</td>\n",
       "    </tr>\n",
       "    <tr>\n",
       "      <th>Datas comemorativas</th>\n",
       "      <td>20,752.25</td>\n",
       "    </tr>\n",
       "    <tr>\n",
       "      <th>Trends</th>\n",
       "      <td>20,024.00</td>\n",
       "    </tr>\n",
       "    <tr>\n",
       "      <th>Sem tag</th>\n",
       "      <td>15,347.88</td>\n",
       "    </tr>\n",
       "    <tr>\n",
       "      <th>Influenciadores</th>\n",
       "      <td>15,197.29</td>\n",
       "    </tr>\n",
       "    <tr>\n",
       "      <th>Novos Produtos</th>\n",
       "      <td>10,304.89</td>\n",
       "    </tr>\n",
       "    <tr>\n",
       "      <th>Dicas de como usar</th>\n",
       "      <td>6,833.40</td>\n",
       "    </tr>\n",
       "    <tr>\n",
       "      <th>Produtos</th>\n",
       "      <td>6,269.82</td>\n",
       "    </tr>\n",
       "    <tr>\n",
       "      <th>Loja</th>\n",
       "      <td>2,865.00</td>\n",
       "    </tr>\n",
       "  </tbody>\n",
       "</table>\n",
       "</div>"
      ],
      "text/plain": [
       "                     Curtidas\n",
       "Tags                         \n",
       "Promoções           27,458.33\n",
       "Datas comemorativas 20,752.25\n",
       "Trends              20,024.00\n",
       "Sem tag             15,347.88\n",
       "Influenciadores     15,197.29\n",
       "Novos Produtos      10,304.89\n",
       "Dicas de como usar   6,833.40\n",
       "Produtos             6,269.82\n",
       "Loja                 2,865.00"
      ]
     },
     "execution_count": 47,
     "metadata": {},
     "output_type": "execute_result"
    }
   ],
   "source": [
    "# Mostrrando novamente a tabela de curtidas por tags\n",
    "base.groupby('Tags')[['Curtidas']].mean().sort_values('Curtidas', ascending=False)"
   ]
  },
  {
   "cell_type": "code",
   "execution_count": 48,
   "metadata": {},
   "outputs": [],
   "source": [
    "# Podemos voltar com NaN caso a gente queira somente ignorar esses valores conforme orientado\n",
    "base.loc[base.Tags == 'Sem tag', 'Tags'] = np.nan"
   ]
  },
  {
   "cell_type": "code",
   "execution_count": 49,
   "metadata": {},
   "outputs": [
    {
     "data": {
      "application/vnd.microsoft.datawrangler.viewer.v0+json": {
       "columns": [
        {
         "name": "Tags",
         "rawType": "object",
         "type": "string"
        },
        {
         "name": "Curtidas",
         "rawType": "float64",
         "type": "float"
        }
       ],
       "conversionMethod": "pd.DataFrame",
       "ref": "31827ad4-d871-49f7-b9c7-e72a30bb367d",
       "rows": [
        [
         "Promoções",
         "27458.333333333332"
        ],
        [
         "Datas comemorativas",
         "20752.25"
        ],
        [
         "Trends",
         "20024.0"
        ],
        [
         "Influenciadores",
         "15197.285714285714"
        ],
        [
         "Novos Produtos",
         "10304.888888888889"
        ],
        [
         "Dicas de como usar",
         "6833.4"
        ],
        [
         "Produtos",
         "6269.823529411765"
        ],
        [
         "Loja",
         "2865.0"
        ]
       ],
       "shape": {
        "columns": 1,
        "rows": 8
       }
      },
      "text/html": [
       "<div>\n",
       "<style scoped>\n",
       "    .dataframe tbody tr th:only-of-type {\n",
       "        vertical-align: middle;\n",
       "    }\n",
       "\n",
       "    .dataframe tbody tr th {\n",
       "        vertical-align: top;\n",
       "    }\n",
       "\n",
       "    .dataframe thead th {\n",
       "        text-align: right;\n",
       "    }\n",
       "</style>\n",
       "<table border=\"1\" class=\"dataframe\">\n",
       "  <thead>\n",
       "    <tr style=\"text-align: right;\">\n",
       "      <th></th>\n",
       "      <th>Curtidas</th>\n",
       "    </tr>\n",
       "    <tr>\n",
       "      <th>Tags</th>\n",
       "      <th></th>\n",
       "    </tr>\n",
       "  </thead>\n",
       "  <tbody>\n",
       "    <tr>\n",
       "      <th>Promoções</th>\n",
       "      <td>27,458.33</td>\n",
       "    </tr>\n",
       "    <tr>\n",
       "      <th>Datas comemorativas</th>\n",
       "      <td>20,752.25</td>\n",
       "    </tr>\n",
       "    <tr>\n",
       "      <th>Trends</th>\n",
       "      <td>20,024.00</td>\n",
       "    </tr>\n",
       "    <tr>\n",
       "      <th>Influenciadores</th>\n",
       "      <td>15,197.29</td>\n",
       "    </tr>\n",
       "    <tr>\n",
       "      <th>Novos Produtos</th>\n",
       "      <td>10,304.89</td>\n",
       "    </tr>\n",
       "    <tr>\n",
       "      <th>Dicas de como usar</th>\n",
       "      <td>6,833.40</td>\n",
       "    </tr>\n",
       "    <tr>\n",
       "      <th>Produtos</th>\n",
       "      <td>6,269.82</td>\n",
       "    </tr>\n",
       "    <tr>\n",
       "      <th>Loja</th>\n",
       "      <td>2,865.00</td>\n",
       "    </tr>\n",
       "  </tbody>\n",
       "</table>\n",
       "</div>"
      ],
      "text/plain": [
       "                     Curtidas\n",
       "Tags                         \n",
       "Promoções           27,458.33\n",
       "Datas comemorativas 20,752.25\n",
       "Trends              20,024.00\n",
       "Influenciadores     15,197.29\n",
       "Novos Produtos      10,304.89\n",
       "Dicas de como usar   6,833.40\n",
       "Produtos             6,269.82\n",
       "Loja                 2,865.00"
      ]
     },
     "execution_count": 49,
     "metadata": {},
     "output_type": "execute_result"
    }
   ],
   "source": [
    "# E essas linhas novamente param de ser consideradas na agregação\n",
    "base.groupby('Tags')[['Curtidas']].mean().sort_values('Curtidas', ascending=False)"
   ]
  },
  {
   "cell_type": "code",
   "execution_count": 50,
   "metadata": {},
   "outputs": [
    {
     "data": {
      "application/vnd.microsoft.datawrangler.viewer.v0+json": {
       "columns": [
        {
         "name": "('Tags', 'Pessoas')",
         "rawType": "object",
         "type": "unknown"
        },
        {
         "name": "Curtidas",
         "rawType": "float64",
         "type": "float"
        },
        {
         "name": "Comentários",
         "rawType": "float64",
         "type": "float"
        }
       ],
       "conversionMethod": "pd.DataFrame",
       "ref": "9caa733e-a38b-4f99-8d3a-b4a0db634c0b",
       "rows": [
        [
         "('Promoções', 'S')",
         "27458.333333333332",
         "531.0"
        ],
        [
         "('Datas comemorativas', 'S')",
         "20752.25",
         "343.5"
        ],
        [
         "('Trends', 'S')",
         "20024.0",
         "352.25"
        ],
        [
         "('Influenciadores', 'S')",
         "15197.285714285714",
         "161.71428571428572"
        ],
        [
         "('Novos Produtos', 'S')",
         "10923.125",
         "215.625"
        ],
        [
         "('Produtos', 'S')",
         "8316.375",
         "131.625"
        ],
        [
         "('Dicas de como usar', 'S')",
         "6833.4",
         "133.6"
        ],
        [
         "('Novos Produtos', 'N')",
         "5359.0",
         "62.0"
        ],
        [
         "('Produtos', 'N')",
         "4450.666666666667",
         "60.77777777777778"
        ],
        [
         "('Loja', 'N')",
         "2865.0",
         "17.666666666666668"
        ]
       ],
       "shape": {
        "columns": 2,
        "rows": 10
       }
      },
      "text/html": [
       "<div>\n",
       "<style scoped>\n",
       "    .dataframe tbody tr th:only-of-type {\n",
       "        vertical-align: middle;\n",
       "    }\n",
       "\n",
       "    .dataframe tbody tr th {\n",
       "        vertical-align: top;\n",
       "    }\n",
       "\n",
       "    .dataframe thead th {\n",
       "        text-align: right;\n",
       "    }\n",
       "</style>\n",
       "<table border=\"1\" class=\"dataframe\">\n",
       "  <thead>\n",
       "    <tr style=\"text-align: right;\">\n",
       "      <th></th>\n",
       "      <th></th>\n",
       "      <th>Curtidas</th>\n",
       "      <th>Comentários</th>\n",
       "    </tr>\n",
       "    <tr>\n",
       "      <th>Tags</th>\n",
       "      <th>Pessoas</th>\n",
       "      <th></th>\n",
       "      <th></th>\n",
       "    </tr>\n",
       "  </thead>\n",
       "  <tbody>\n",
       "    <tr>\n",
       "      <th>Promoções</th>\n",
       "      <th>S</th>\n",
       "      <td>27,458.33</td>\n",
       "      <td>531.00</td>\n",
       "    </tr>\n",
       "    <tr>\n",
       "      <th>Datas comemorativas</th>\n",
       "      <th>S</th>\n",
       "      <td>20,752.25</td>\n",
       "      <td>343.50</td>\n",
       "    </tr>\n",
       "    <tr>\n",
       "      <th>Trends</th>\n",
       "      <th>S</th>\n",
       "      <td>20,024.00</td>\n",
       "      <td>352.25</td>\n",
       "    </tr>\n",
       "    <tr>\n",
       "      <th>Influenciadores</th>\n",
       "      <th>S</th>\n",
       "      <td>15,197.29</td>\n",
       "      <td>161.71</td>\n",
       "    </tr>\n",
       "    <tr>\n",
       "      <th>Novos Produtos</th>\n",
       "      <th>S</th>\n",
       "      <td>10,923.12</td>\n",
       "      <td>215.62</td>\n",
       "    </tr>\n",
       "    <tr>\n",
       "      <th>Produtos</th>\n",
       "      <th>S</th>\n",
       "      <td>8,316.38</td>\n",
       "      <td>131.62</td>\n",
       "    </tr>\n",
       "    <tr>\n",
       "      <th>Dicas de como usar</th>\n",
       "      <th>S</th>\n",
       "      <td>6,833.40</td>\n",
       "      <td>133.60</td>\n",
       "    </tr>\n",
       "    <tr>\n",
       "      <th>Novos Produtos</th>\n",
       "      <th>N</th>\n",
       "      <td>5,359.00</td>\n",
       "      <td>62.00</td>\n",
       "    </tr>\n",
       "    <tr>\n",
       "      <th>Produtos</th>\n",
       "      <th>N</th>\n",
       "      <td>4,450.67</td>\n",
       "      <td>60.78</td>\n",
       "    </tr>\n",
       "    <tr>\n",
       "      <th>Loja</th>\n",
       "      <th>N</th>\n",
       "      <td>2,865.00</td>\n",
       "      <td>17.67</td>\n",
       "    </tr>\n",
       "  </tbody>\n",
       "</table>\n",
       "</div>"
      ],
      "text/plain": [
       "                             Curtidas  Comentários\n",
       "Tags                Pessoas                       \n",
       "Promoções           S       27,458.33       531.00\n",
       "Datas comemorativas S       20,752.25       343.50\n",
       "Trends              S       20,024.00       352.25\n",
       "Influenciadores     S       15,197.29       161.71\n",
       "Novos Produtos      S       10,923.12       215.62\n",
       "Produtos            S        8,316.38       131.62\n",
       "Dicas de como usar  S        6,833.40       133.60\n",
       "Novos Produtos      N        5,359.00        62.00\n",
       "Produtos            N        4,450.67        60.78\n",
       "Loja                N        2,865.00        17.67"
      ]
     },
     "execution_count": 50,
     "metadata": {},
     "output_type": "execute_result"
    }
   ],
   "source": [
    "# Pessoas e tags\n",
    "base.groupby(['Tags', 'Pessoas'])[['Curtidas', 'Comentários']].mean().sort_values('Curtidas', ascending=False)"
   ]
  },
  {
   "cell_type": "code",
   "execution_count": 51,
   "metadata": {},
   "outputs": [
    {
     "data": {
      "application/vnd.microsoft.datawrangler.viewer.v0+json": {
       "columns": [
        {
         "name": "('Tags', 'Campanhas')",
         "rawType": "object",
         "type": "unknown"
        },
        {
         "name": "Curtidas",
         "rawType": "float64",
         "type": "float"
        },
        {
         "name": "Comentários",
         "rawType": "float64",
         "type": "float"
        }
       ],
       "conversionMethod": "pd.DataFrame",
       "ref": "8fddb082-1219-47fa-ab3e-d8ac40bdeb9d",
       "rows": [
        [
         "('Promoções', 'S')",
         "33217.5",
         "490.5"
        ],
        [
         "('Trends', 'S')",
         "22400.666666666668",
         "386.6666666666667"
        ],
        [
         "('Datas comemorativas', 'S')",
         "20752.25",
         "343.5"
        ],
        [
         "('Influenciadores', 'S')",
         "18715.4",
         "197.6"
        ],
        [
         "('Promoções', 'N')",
         "15940.0",
         "612.0"
        ],
        [
         "('Trends', 'N')",
         "12894.0",
         "249.0"
        ],
        [
         "('Novos Produtos', 'S')",
         "11040.666666666666",
         "323.0"
        ],
        [
         "('Novos Produtos', 'N')",
         "9937.0",
         "136.33333333333334"
        ],
        [
         "('Produtos', 'S')",
         "9074.0",
         "67.5"
        ],
        [
         "('Dicas de como usar', 'N')",
         "6833.4",
         "133.6"
        ],
        [
         "('Influenciadores', 'N')",
         "6402.0",
         "72.0"
        ],
        [
         "('Produtos', 'N')",
         "5895.933333333333",
         "97.66666666666667"
        ],
        [
         "('Loja', 'N')",
         "2865.0",
         "17.666666666666668"
        ]
       ],
       "shape": {
        "columns": 2,
        "rows": 13
       }
      },
      "text/html": [
       "<div>\n",
       "<style scoped>\n",
       "    .dataframe tbody tr th:only-of-type {\n",
       "        vertical-align: middle;\n",
       "    }\n",
       "\n",
       "    .dataframe tbody tr th {\n",
       "        vertical-align: top;\n",
       "    }\n",
       "\n",
       "    .dataframe thead th {\n",
       "        text-align: right;\n",
       "    }\n",
       "</style>\n",
       "<table border=\"1\" class=\"dataframe\">\n",
       "  <thead>\n",
       "    <tr style=\"text-align: right;\">\n",
       "      <th></th>\n",
       "      <th></th>\n",
       "      <th>Curtidas</th>\n",
       "      <th>Comentários</th>\n",
       "    </tr>\n",
       "    <tr>\n",
       "      <th>Tags</th>\n",
       "      <th>Campanhas</th>\n",
       "      <th></th>\n",
       "      <th></th>\n",
       "    </tr>\n",
       "  </thead>\n",
       "  <tbody>\n",
       "    <tr>\n",
       "      <th>Promoções</th>\n",
       "      <th>S</th>\n",
       "      <td>33,217.50</td>\n",
       "      <td>490.50</td>\n",
       "    </tr>\n",
       "    <tr>\n",
       "      <th>Trends</th>\n",
       "      <th>S</th>\n",
       "      <td>22,400.67</td>\n",
       "      <td>386.67</td>\n",
       "    </tr>\n",
       "    <tr>\n",
       "      <th>Datas comemorativas</th>\n",
       "      <th>S</th>\n",
       "      <td>20,752.25</td>\n",
       "      <td>343.50</td>\n",
       "    </tr>\n",
       "    <tr>\n",
       "      <th>Influenciadores</th>\n",
       "      <th>S</th>\n",
       "      <td>18,715.40</td>\n",
       "      <td>197.60</td>\n",
       "    </tr>\n",
       "    <tr>\n",
       "      <th>Promoções</th>\n",
       "      <th>N</th>\n",
       "      <td>15,940.00</td>\n",
       "      <td>612.00</td>\n",
       "    </tr>\n",
       "    <tr>\n",
       "      <th>Trends</th>\n",
       "      <th>N</th>\n",
       "      <td>12,894.00</td>\n",
       "      <td>249.00</td>\n",
       "    </tr>\n",
       "    <tr>\n",
       "      <th rowspan=\"2\" valign=\"top\">Novos Produtos</th>\n",
       "      <th>S</th>\n",
       "      <td>11,040.67</td>\n",
       "      <td>323.00</td>\n",
       "    </tr>\n",
       "    <tr>\n",
       "      <th>N</th>\n",
       "      <td>9,937.00</td>\n",
       "      <td>136.33</td>\n",
       "    </tr>\n",
       "    <tr>\n",
       "      <th>Produtos</th>\n",
       "      <th>S</th>\n",
       "      <td>9,074.00</td>\n",
       "      <td>67.50</td>\n",
       "    </tr>\n",
       "    <tr>\n",
       "      <th>Dicas de como usar</th>\n",
       "      <th>N</th>\n",
       "      <td>6,833.40</td>\n",
       "      <td>133.60</td>\n",
       "    </tr>\n",
       "    <tr>\n",
       "      <th>Influenciadores</th>\n",
       "      <th>N</th>\n",
       "      <td>6,402.00</td>\n",
       "      <td>72.00</td>\n",
       "    </tr>\n",
       "    <tr>\n",
       "      <th>Produtos</th>\n",
       "      <th>N</th>\n",
       "      <td>5,895.93</td>\n",
       "      <td>97.67</td>\n",
       "    </tr>\n",
       "    <tr>\n",
       "      <th>Loja</th>\n",
       "      <th>N</th>\n",
       "      <td>2,865.00</td>\n",
       "      <td>17.67</td>\n",
       "    </tr>\n",
       "  </tbody>\n",
       "</table>\n",
       "</div>"
      ],
      "text/plain": [
       "                               Curtidas  Comentários\n",
       "Tags                Campanhas                       \n",
       "Promoções           S         33,217.50       490.50\n",
       "Trends              S         22,400.67       386.67\n",
       "Datas comemorativas S         20,752.25       343.50\n",
       "Influenciadores     S         18,715.40       197.60\n",
       "Promoções           N         15,940.00       612.00\n",
       "Trends              N         12,894.00       249.00\n",
       "Novos Produtos      S         11,040.67       323.00\n",
       "                    N          9,937.00       136.33\n",
       "Produtos            S          9,074.00        67.50\n",
       "Dicas de como usar  N          6,833.40       133.60\n",
       "Influenciadores     N          6,402.00        72.00\n",
       "Produtos            N          5,895.93        97.67\n",
       "Loja                N          2,865.00        17.67"
      ]
     },
     "execution_count": 51,
     "metadata": {},
     "output_type": "execute_result"
    }
   ],
   "source": [
    "base.groupby(['Tags', 'Campanhas'])[['Curtidas', 'Comentários']].mean().sort_values('Curtidas', ascending=False)"
   ]
  },
  {
   "cell_type": "markdown",
   "metadata": {},
   "source": [
    "CONCLUSÕES\n",
    "\n",
    "- Ter o rosto de outras pessoas é fundamental para um bom engajament na publicação\n",
    " - Em todas as tags, quando havia rosto, o resultado foi muito melhor\n",
    "\n",
    "- Criar campanhas ajuda muito na divulgação da marca\n",
    "- Promoções tiveram um desempenho absurdamente maior que qualquer outra tags\n",
    " - Porém é uma tag que pode ter custo para a loja, o que deve ser analisado\n",
    "\n",
    "- Usar conteúdos que estão em trend também ajudam na divulgação da marca, mesmo a trend sendo de outros nichos\n",
    "- A melhor maneira de mostrar produtos é através de outras pessoas utilizando-os, e se possível em campanahs de datas especiais\n",
    "- Para novos produtos a inclusão de pessoas é mais crítica ainda, sendo quase o dobro quando há um rosto junto ao produto\n",
    "- Não podemos afirmar que a tag LOJA é ruim até testarmos essa tag incluindo pessoas ou em uma campanha. Vale o teste para verificar!\n",
    "- Continuaremos a monitorar as postagens para encontrar novos padrões dado que ainda temos poucas informações da base"
   ]
  }
 ],
 "metadata": {
  "kernelspec": {
   "display_name": "Python 3",
   "language": "python",
   "name": "python3"
  },
  "language_info": {
   "codemirror_mode": {
    "name": "ipython",
    "version": 3
   },
   "file_extension": ".py",
   "mimetype": "text/x-python",
   "name": "python",
   "nbconvert_exporter": "python",
   "pygments_lexer": "ipython3",
   "version": "3.12.4"
  }
 },
 "nbformat": 4,
 "nbformat_minor": 2
}
